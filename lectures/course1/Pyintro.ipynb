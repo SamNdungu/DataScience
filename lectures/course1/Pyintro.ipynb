{
 "cells": [
  {
   "cell_type": "markdown",
   "metadata": {},
   "source": [
    "# Introduction to Python\n",
    "\n",
    "## Course Description\n",
    "\n",
    "Python is a general-purpose programming language that is becoming ever more popular for data science. Companies worldwide are using Python to harvest insights from their data and gain a competitive edge. Unlike other Python tutorials, this course focuses on Python specifically for data science. In our Introduction to Python course, you’ll learn about powerful ways to store and manipulate data, and helpful data science tools to begin conducting your own analyses. Start DataCamp’s online Python curriculum now.\n",
    "\n",
    "## 1. Chapter 1 - Python Basics\n",
    "\n",
    "An introduction to the basic concepts of Python. Learn how to use Python interactively and by using a script. Create your first variables and acquaint yourself with Python's basic data types.\n",
    "\n",
    "- Guido Van Rossum\n",
    "- General Purpose: build anything\n",
    "- Open Source! Free!\n",
    "- Python Packages, also for Data Science\n",
    "- Many applications and fields"
   ]
  },
  {
   "cell_type": "markdown",
   "metadata": {},
   "source": [
    "### Python Script\n",
    "- Text Files - .py\n",
    "- List of Python Commands\n",
    "- Similar to typing in IPython Shell\n",
    "\n",
    "Python is a pretty versatile language. For which applications can you use Python?\n",
    "\n",
    "- You want to do some quick calculations.\n",
    "- For your new business, you want to develop a database-driven website.\n",
    "- Your boss asks you to clean and analyze the results of the latest satisfaction survey.\n",
    "- You can all of the above tasks using Python.\n",
    "\n",
    "### Comments :\n",
    "You can add comments to your Python scripts. Comments are important to make\n",
    "sure that you and others can understand what your code is about.\n",
    "To add comments to your Python script, you can use the `# tag`. These comments\n",
    "are not run as Python code, so they will not influence your result."
   ]
  },
  {
   "cell_type": "code",
   "execution_count": 1,
   "metadata": {},
   "outputs": [
    {
     "name": "stdout",
     "output_type": "stream",
     "text": [
      "0.625\n",
      "17\n"
     ]
    }
   ],
   "source": [
    "# Example, do not modify!\n",
    "print(5 / 8)\n",
    "\n",
    "# Print the sum of 7 and 10\n",
    "print(7 + 10)"
   ]
  },
  {
   "cell_type": "markdown",
   "metadata": {},
   "source": [
    "### Python as a calculator\n",
    "Python is perfectly suited to do basic calculations. It can do addition, subtraction, multiplication and division.\n",
    "The code in the script gives some examples.\n",
    "Now it's your turn to practice!\n",
    "\n",
    "#### Instructions\n",
    "\n",
    "- Print the sum of 4 + 5.\n",
    "- Print the result of subtracting 5 from 5.\n",
    "- Print the result of multiplying 3 by 5.\n",
    "- Print the result of dividing 10 by 2"
   ]
  },
  {
   "cell_type": "code",
   "execution_count": 2,
   "metadata": {},
   "outputs": [
    {
     "name": "stdout",
     "output_type": "stream",
     "text": [
      "10\n",
      "0\n",
      "15\n",
      "5.0\n",
      "4\n",
      "16\n",
      "194.87171000000012\n"
     ]
    }
   ],
   "source": [
    "# Addition, subtraction\n",
    "print(5 + 5)\n",
    "print(5 - 5)\n",
    "\n",
    "# Multiplication, division, modulo, and exponentiation\n",
    "print(3 * 5)\n",
    "print(10 / 2)\n",
    "print(18 % 7)\n",
    "print(4 ** 2)\n",
    "\n",
    "# How much is your $100 worth after 7 years?\n",
    "print(100 * 1.1 ** 7)"
   ]
  },
  {
   "cell_type": "markdown",
   "metadata": {},
   "source": [
    "### Variables and Types\n",
    "\n",
    "#### Variables\n",
    "- Specific, case-sensitive \n",
    "- nameCall up value through variable name\n",
    "- 1.79 m - 68.7 kg"
   ]
  },
  {
   "cell_type": "markdown",
   "metadata": {},
   "source": [
    "#### Calculate BMI\n",
    "\n",
    "\n",
    "The BMI formula is:  $BMI = \\frac{weight}{height^2}$\n"
   ]
  },
  {
   "cell_type": "code",
   "execution_count": 3,
   "metadata": {},
   "outputs": [
    {
     "name": "stdout",
     "output_type": "stream",
     "text": [
      "21.44127836209856\n"
     ]
    }
   ],
   "source": [
    "# Example\n",
    "\n",
    "height = 1.79 \n",
    "weight = 68.7  \n",
    "# print(height) \n",
    "# print(weight)\n",
    "\n",
    "bmi = weight / height ** 2\n",
    "print(bmi)"
   ]
  },
  {
   "cell_type": "code",
   "execution_count": 4,
   "metadata": {},
   "outputs": [
    {
     "name": "stdout",
     "output_type": "stream",
     "text": [
      "<class 'float'>\n",
      "<class 'int'>\n",
      "<class 'str'>\n",
      "<class 'str'>\n",
      "<class 'bool'>\n",
      "5\n",
      "abcd\n"
     ]
    }
   ],
   "source": [
    "# Python Types\n",
    "\n",
    "# types(1)\n",
    "\n",
    "print(type(bmi)) \n",
    "\n",
    "day_of_week = 5 \n",
    "print(type(day_of_week)) \n",
    "\n",
    "# Types (2)\n",
    "x = \"body mass index\" \n",
    "y = 'this works too'  \n",
    "print(type(x)) \n",
    "print(type(y))\n",
    "\n",
    "z = True \n",
    "print(type(z)) \n",
    "\n",
    "# Types (3) - NB:  Different type = different behavior!\n",
    "print(2 + 3 )\n",
    "print('ab' + 'cd') \n",
    "\n",
    "# Different type = different behavior!"
   ]
  },
  {
   "cell_type": "markdown",
   "metadata": {},
   "source": [
    "### Variable Assignment\n",
    "\n",
    "#### Instructions\n",
    "\n",
    "- Create a variable savings with the value of 100.\n",
    "- Check out this variable by typing print(savings) in the script.\n"
   ]
  },
  {
   "cell_type": "code",
   "execution_count": 5,
   "metadata": {},
   "outputs": [
    {
     "name": "stdout",
     "output_type": "stream",
     "text": [
      "100\n"
     ]
    }
   ],
   "source": [
    "# Create a variable savings\n",
    "savings = 100\n",
    "\n",
    "# Print out savings\n",
    "print(savings)"
   ]
  },
  {
   "cell_type": "markdown",
   "metadata": {},
   "source": [
    "### Calculations with variables\n",
    "\n",
    "You've now created a savings variable, so let's start saving!\n",
    "\n",
    "Instead of calculating with the actual values, you can use variables instead. The savings variable you created in the previous exercise with a value of 100 is available to you.\n",
    "\n",
    "How much money would you have saved four months from now, if you saved $10 each month?\n",
    "\n",
    "#### Instructions\n",
    "\n",
    "- Create a variable monthly_savings, equal to 10 and num_months, equal to 4.\n",
    "- Multiply monthly_savings by num_months and save it to new_savings.\n",
    "- Add new_savings to savings, saving the sum as total_savings.\n",
    "- Print the value of total_savings"
   ]
  },
  {
   "cell_type": "code",
   "execution_count": 6,
   "metadata": {},
   "outputs": [
    {
     "name": "stdout",
     "output_type": "stream",
     "text": [
      "194.87171000000012\n"
     ]
    }
   ],
   "source": [
    "# Create a variable savings\n",
    "savings = 100\n",
    "\n",
    "# Create a variable growth_multiplier\n",
    "growth_multiplier = 1.1\n",
    "\n",
    "# Calculate result\n",
    "result = savings * growth_multiplier ** 7\n",
    "\n",
    "# Print out result\n",
    "print(result)"
   ]
  },
  {
   "cell_type": "markdown",
   "metadata": {},
   "source": [
    "You've now created a savings variable, so let's start saving!\n",
    "\n",
    "Instead of calculating with the actual values, you can use variables instead. The savings variable you created in the previous exercise with a value of 100 is available to you.\n",
    "\n",
    "How much money would you have saved four months from now, if you saved $10 each month?\n",
    "\n",
    "#### Instructions\n",
    "\n",
    "- Create a variable monthly_savings, equal to 10 and num_months, equal to 4.\n",
    "- Multiply monthly_savings by num_months and save it to new_savings.\n",
    "- Add new_savings to savings, saving the sum as total_savings.\n",
    "- Print the value of total_savings."
   ]
  },
  {
   "cell_type": "code",
   "execution_count": 7,
   "metadata": {},
   "outputs": [
    {
     "name": "stdout",
     "output_type": "stream",
     "text": [
      "194.87171000000012\n",
      "140\n"
     ]
    }
   ],
   "source": [
    "# Create a variable savings\n",
    "savings = 100\n",
    "\n",
    "# Create a variable growth_multiplier\n",
    "growth_multiplier = 1.1\n",
    "\n",
    "# Calculate result\n",
    "result = savings * growth_multiplier ** 7\n",
    "\n",
    "# Print out result\n",
    "print(result)\n",
    "\n",
    "monthly_savings = 10\n",
    "num_months = 4 \n",
    "new_savings = monthly_savings * num_months\n",
    "total_savings = new_savings + savings\n",
    "print(total_savings)"
   ]
  },
  {
   "cell_type": "markdown",
   "metadata": {},
   "source": [
    "### Other variable types\n",
    "In the previous exercise, you worked with the integer Python data type:\n",
    "\n",
    "- *`int, or integer:`* a number without a fractional part. savings, with the value 100, is an example of an integer.\n",
    "\n",
    "Next to numerical data types, there are three other very common data types:\n",
    "\n",
    "- *`float, or floating point:`* a number that has both an integer and fractional part, separated by a point. 1.1, is an example of a float.\n",
    "- *`str, or string:`* a type to represent text. You can use single or double quotes to build a string.\n",
    "- *`bool, or boolean:`* a type to represent logical values. It can only be True or False (the capitalization is important!).\n",
    "\n",
    "\n",
    "#### Instructions\n",
    "\n",
    "- Create a new float, `half`, with the value `0.5`.\n",
    "- Create a new string, `intro`, with the value `\"Hello! How are you?\"`.\n",
    "- Create a new boolean, `is_good`, with the value `True`."
   ]
  },
  {
   "cell_type": "code",
   "execution_count": 8,
   "metadata": {},
   "outputs": [],
   "source": [
    "# Create a variable desc\n",
    "desc = \"compound interest\"\n",
    "\n",
    "# Create a variable profitable\n",
    "profitable = True\n",
    "half = 0.5\n",
    "intro = \"Hello! How are you?\"\n",
    "is_good = True"
   ]
  },
  {
   "cell_type": "markdown",
   "metadata": {},
   "source": [
    "#### Operations with other types\n",
    "\n",
    "When you sum two strings, for example, you'll get different behavior than when you sum two integers or two booleans.\n",
    "\n",
    "In the script some variables with different types have already been created. It's up to you to use them.\n",
    "\n",
    "#### Instructions\n",
    "\n",
    "- Calculate the product of monthly_savings and num_months. Store the result in year_savings.\n",
    "- What do you think the resulting type will be? Find out by printing out the type of year_savings.\n",
    "- Calculate the sum of intro and intro and store the result in a new variable doubleintro.\n",
    "- Print out doubleintro. Did you expect this?"
   ]
  },
  {
   "cell_type": "code",
   "execution_count": 9,
   "metadata": {},
   "outputs": [
    {
     "name": "stdout",
     "output_type": "stream",
     "text": [
      "<class 'float'>\n",
      "compound interestcompound interest\n",
      "<class 'int'>\n",
      "Hello! How are you?Hello! How are you?\n"
     ]
    }
   ],
   "source": [
    "savings = 100\n",
    "growth_multiplier = 1.1\n",
    "desc = \"compound interest\"\n",
    "\n",
    "# Assign product of savings and growth_multiplier to year1\n",
    "year1 = savings * growth_multiplier\n",
    "\n",
    "# Print the type of year1\n",
    "print(type(year1))\n",
    "\n",
    "# Assign sum of desc and desc to doubledesc\n",
    "doubledesc =  desc + desc\n",
    "\n",
    "# Print out doubledesc\n",
    "print(doubledesc)\n",
    "\n",
    "monthly_savings = 10\n",
    "num_months = 12\n",
    "intro = \"Hello! How are you?\"\n",
    "\n",
    "year_savings = monthly_savings * num_months\n",
    "print(type(year_savings))\n",
    "\n",
    "doubleintro = intro + intro\n",
    "print(doubleintro)"
   ]
  },
  {
   "cell_type": "markdown",
   "metadata": {},
   "source": [
    "### Type conversion\n",
    "Using the `+` operator to paste together two strings can be very useful in building custom messages.\n",
    "\n",
    "Suppose, for example, that you've calculated your savings want to summarize the results in a string.\n",
    "\n",
    "To do this, you'll need to explicitly convert the types of your variables. More specifically, you'll need `str()`, to convert a value into a string. `str(savings)`, for example, will convert the integer savings to a string.\n",
    "\n",
    "Similar functions such as `int()`, `float()` and `bool()` will help you convert Python values into any type.\n",
    "\n",
    "- Fix the code such that the printout runs without errors; use the function `str()` to convert the variables `savings` and `total_savings` to strings.\n",
    "- Convert the variable `pi_string` to a float and store this float as a new variable, `pi_float`."
   ]
  },
  {
   "cell_type": "code",
   "execution_count": 10,
   "metadata": {},
   "outputs": [
    {
     "name": "stdout",
     "output_type": "stream",
     "text": [
      "I started with $100 and now have $150. Awesome!\n"
     ]
    }
   ],
   "source": [
    "# Definition of savings and result\n",
    "savings = 100\n",
    "total_savings = 150\n",
    "\n",
    "# Fix the printout\n",
    "print(\"I started with $\" + str(savings) + \" and now have $\" + str(total_savings) + \". Awesome!\")\n",
    "\n",
    "# Definition of pi_string\n",
    "pi_string = \"3.1415926\"\n",
    "\n",
    "# Convert pi_string into float: pi_float\n",
    "pi_float = float(pi_string)"
   ]
  },
  {
   "cell_type": "markdown",
   "metadata": {},
   "source": [
    "# Chapter 2 - Python Lists\n",
    "\n",
    "Learn to store, access, and manipulate data in lists: the first step toward efficiently working with huge amounts of data.\n",
    "\n",
    "### Python Data Types\n",
    "\n",
    "- float - real numbers\n",
    "- int - integer numbers\n",
    "- str - string, text\n",
    "- bool - True, False\n",
    "\n",
    "Each variable represents single value\n",
    "\n"
   ]
  },
  {
   "cell_type": "markdown",
   "metadata": {},
   "source": [
    "### Create a list\n",
    "As opposed to int, bool etc., a list is a compound data type; you can group values together:\n",
    "\n",
    "`a = \"is\"`  \n",
    "`b = \"nice\" `   \n",
    "`my_list = [\"my\", \"list\", a, b]`\n",
    "\n",
    "After measuring the height of your family, you decide to collect some information on the house you're living in. The areas of the different parts of your house are stored in separate variables for now, as shown in the script.\n",
    "\n",
    "#### Instructions\n",
    "\n",
    "- Create a list, areas, that contains the area of the hallway (hall), kitchen (kit), living room (liv), bedroom (bed) and bathroom (bath), in this order. Use the predefined variables.\n",
    "- Print areas with the print() function."
   ]
  },
  {
   "cell_type": "code",
   "execution_count": 11,
   "metadata": {},
   "outputs": [
    {
     "name": "stdout",
     "output_type": "stream",
     "text": [
      "[11.25, 18.0, 20.0, 10.75, 9.5]\n"
     ]
    }
   ],
   "source": [
    "# area variables (in square meters)\n",
    "hall = 11.25\n",
    "kit = 18.0\n",
    "liv = 20.0\n",
    "bed = 10.75\n",
    "bath = 9.50\n",
    "\n",
    "# Create list areas\n",
    "areas = [hall, kit, liv, bed, bath]\n",
    "\n",
    "# Print areas\n",
    "print(areas)\n"
   ]
  },
  {
   "cell_type": "markdown",
   "metadata": {},
   "source": [
    "### Create list with different types\n",
    "\n",
    "A list can contain any Python type. Although it's not really common, a list can also contain a mix of Python types including `strings`, `floats`, `booleans`, etc.\n",
    "\n",
    "The `printout` of the previous exercise wasn't really satisfying. It's just a list of numbers representing the areas, but you can't tell which area corresponds to which part of your house.\n",
    "\n",
    "The code in the editor is the start of a solution. For some of the areas, the name of the corresponding room is already placed in front. Pay attention here! `\"bathroom\"` is a string, while `bath` is a variable that represents the float 9.50 you specified earlier.\n",
    "\n",
    "#### Instructions\n",
    "\n",
    "- Finish the code that creates the areas list. Build the list so that the list first contains the name of each room as a string and then its area. In other words, add the strings `\"hallway\"`, `\"kitchen\"` and `\"bedroom\"` at the appropriate locations.\n",
    "- Print `areas` again; is the printout more informative this time?"
   ]
  },
  {
   "cell_type": "code",
   "execution_count": 12,
   "metadata": {},
   "outputs": [
    {
     "name": "stdout",
     "output_type": "stream",
     "text": [
      "['hallway', 11.25, 'kitchen', 18.0, 'living room', 20.0, 'bedroom', 10.75, 'bathroom', 9.5]\n"
     ]
    }
   ],
   "source": [
    "# area variables (in square meters)\n",
    "hall = 11.25\n",
    "kit = 18.0\n",
    "liv = 20.0\n",
    "bed = 10.75\n",
    "bath = 9.50\n",
    "\n",
    "# Adapt list areas\n",
    "areas = [\"hallway\", hall, \"kitchen\", kit, \"living room\", liv, \"bedroom\", bed, \"bathroom\", bath]\n",
    "\n",
    "# Print areas\n",
    "print(areas)"
   ]
  },
  {
   "cell_type": "markdown",
   "metadata": {},
   "source": [
    "### List of lists\n",
    "\n",
    "As a data scientist, you'll often be dealing with a lot of data, and it will make sense to group some of this data.\n",
    "\n",
    "Instead of creating a flat list containing strings and floats, representing the names and areas of the rooms in your house, you can create a list of lists. The script in the editor can already give you an idea.\n",
    "\n",
    "Don't get confused here: `\"hallway\"` is a string, while `hall` is a variable that represents the float `11.25` you specified earlier.\n",
    "\n",
    "#### Instructions\n",
    "\n",
    "- Finish the list of lists so that it also contains the bedroom and bathroom data. Make sure you enter these in order!\n",
    "- Print out `house`; does this way of structuring your data make more sense?\n",
    "- Print out the type of `house`. Are you still dealing with a list"
   ]
  },
  {
   "cell_type": "code",
   "execution_count": 13,
   "metadata": {},
   "outputs": [
    {
     "name": "stdout",
     "output_type": "stream",
     "text": [
      "[['hallway', 11.25], ['kitchen', 18.0], ['living room', 20.0], ['bedroom', 10.75], ['bathroom', 9.5]]\n",
      "<class 'list'>\n"
     ]
    }
   ],
   "source": [
    "# area variables (in square meters)\n",
    "hall = 11.25\n",
    "kit = 18.0\n",
    "liv = 20.0\n",
    "bed = 10.75\n",
    "bath = 9.50\n",
    "\n",
    "# house information as list of lists\n",
    "house = [[\"hallway\", hall],\n",
    "         [\"kitchen\", kit],\n",
    "         [\"living room\", liv],\n",
    "         [\"bedroom\", bed],\n",
    "         [\"bathroom\", bath]]\n",
    "\n",
    "# Print out house\n",
    "print(house)\n",
    "\n",
    "# Print out the type of house\n",
    "print(type(house))"
   ]
  },
  {
   "cell_type": "markdown",
   "metadata": {},
   "source": [
    "### Subsetting lists\n",
    "\n",
    "**Subsetting lists:** This is accessing elements of a list\n",
    "\n",
    "- Python uses indexes(0, 1, 2, ..., n).\n",
    "- We use sapuare brackets.\n",
    "- Lists are zero-indexed i.e starts with zero.\n",
    "- Negative indexing - access elements from the end of a list.\n",
    "\n",
    "\n",
    "`fam = [\"liz\", 1.73, \"emma\", 1.68, \"mom\", 1.71, \"dad\", 1.89]`\n",
    "\n",
    "`fam['liz', 1.73, 'emma', 1.68, 'mom', 1.71, 'dad', 1.89]`   \n",
    "\n",
    "`fam[3]        #1.68`\n",
    "\n",
    "`fam[6]        #'dad'`   \n",
    "\n",
    "`fam[-1]       #1.89`   \n",
    "\n",
    "`fam[7]        #1.89`\n",
    "\n"
   ]
  },
  {
   "cell_type": "markdown",
   "metadata": {},
   "source": [
    "### List slicing \n",
    "\n",
    "**List slicing:** Selecting multiple elements from a list, thus creating a new list.\n",
    "\n",
    "- Specify a range. E.x `fam[3:5]`. \n",
    "- Syntax - `[Start(Inclusive) : End(Exlusive)]`.\n",
    "- `fam[:4]` - Start from zero(0) upto `3`.\n",
    "- `fam[4:]` - List all elements from index `4` upto and including the last element.\n",
    "\n",
    "\n",
    "`fam['liz', 1.73, 'emma', 1.68, 'mom', 1.71, 'dad', 1.89]`   \n",
    "\n",
    "`fam[3:5]    #[1.68, 'mom']`  \n",
    "\n",
    "`fam[1:4]    #[1.73, 'emma', 1.68]`\n",
    "\n",
    "`fam[:4]    #['liz', 1.73, 'emma', 1.68]`  \n",
    "\n",
    "`fam[5:]    #[1.71, 'dad', 1.89]`\n",
    "\n"
   ]
  },
  {
   "cell_type": "markdown",
   "metadata": {},
   "source": [
    "### Subset and conquer\n",
    "\n",
    "Subsetting Python lists is a piece of cake. Take the code sample below, which creates a list `x` and then selects `\"b\"` from it. Remember that this is the second element, so it has index `1`. You can also use negative indexing.\n",
    "\n",
    "`x = [\"a\", \"b\", \"c\", \"d\"]`  \n",
    "\n",
    "`x[1]`  \n",
    "\n",
    "`x[-3] # same result!`   \n",
    "\n",
    "Remember the areas list from before, containing both strings and floats? Its definition is already in the script. Can you add the correct code to do some Python subsetting?\n",
    "\n",
    "#### Instructions\n",
    "\n",
    "- Print out the second element from the `areas` list (it has the value `11.25`).\n",
    "- Subset and print out the last element of `areas`, being `9.50`. Using a negative index makes sense here!\n",
    "- Select the number representing the area of the living room `(20.0)` and print it out."
   ]
  },
  {
   "cell_type": "code",
   "execution_count": 14,
   "metadata": {},
   "outputs": [
    {
     "name": "stdout",
     "output_type": "stream",
     "text": [
      "11.25\n",
      "9.5\n",
      "20.0\n"
     ]
    }
   ],
   "source": [
    "# Create the areas list\n",
    "areas = [\"hallway\", 11.25, \"kitchen\", 18.0, \"living room\", 20.0, \"bedroom\", 10.75, \"bathroom\", 9.50]\n",
    "\n",
    "# Print out second element from areas\n",
    "print(areas[1])\n",
    "\n",
    "# Print out last element from areas\n",
    "print(areas[-1])\n",
    "\n",
    "# Print out the area of the living room\n",
    "print(areas[5])"
   ]
  },
  {
   "cell_type": "markdown",
   "metadata": {},
   "source": [
    "### Subset and calculate\n",
    "After you've extracted values from a list, you can use them to perform additional calculations. Take this example, where the second and fourth element of a list x are extracted. The strings that result are pasted together using the + operator:\n",
    "\n",
    "`x = [\"a\", \"b\", \"c\", \"d\"]`  \n",
    "\n",
    "`print(x[1] + x[3])`  \n",
    "\n",
    "#### Instructions\n",
    "\n",
    "- Using a combination of list subsetting and variable assignment, create a new variable, `eat_sleep_area`, that contains the sum of the area of the kitchen and the area of the bedroom.\n",
    "- Print the new variable `eat_sleep_area`."
   ]
  },
  {
   "cell_type": "code",
   "execution_count": 15,
   "metadata": {},
   "outputs": [
    {
     "name": "stdout",
     "output_type": "stream",
     "text": [
      "28.75\n"
     ]
    }
   ],
   "source": [
    "# Create the areas list\n",
    "areas = [\"hallway\", 11.25, \"kitchen\", 18.0, \"living room\", 20.0, \"bedroom\", 10.75, \"bathroom\", 9.50]\n",
    "\n",
    "# Sum of kitchen and bedroom area: eat_sleep_area\n",
    "eat_sleep_area = areas[3] + areas[7]\n",
    "\n",
    "# Print the variable eat_sleep_area\n",
    "print(eat_sleep_area)"
   ]
  },
  {
   "cell_type": "markdown",
   "metadata": {},
   "source": [
    "### Slicing and dicing\n",
    "\n",
    "Selecting single values from a list is just one part of the story. It's also possible to slice your list, which means selecting multiple elements from your list. Use the following syntax:\n",
    "\n",
    "`my_list[start:end]` - The start index will be included, while the end index is not.\n",
    "\n",
    "The code sample below shows an example. A list with `\"b\"` and `\"c\"`, corresponding to indexes `1` and `2`, are selected from a list `x`:\n",
    "\n",
    "`x = [\"a\", \"b\", \"c\", \"d\"]`  \n",
    "\n",
    "`x[1:3]` - The elements with index `1` and `2` are included, while the element with index `3` is not.\n",
    "\n",
    "#### Instructions\n",
    "\n",
    "- Use slicing to create a list, `downstairs`, that contains the first `6` elements of areas.\n",
    "- Do a similar thing to create a new variable, `upstairs`, that contains the last `4` elements of areas.\n",
    "- Print both downstairs and upstairs using `print()`."
   ]
  },
  {
   "cell_type": "code",
   "execution_count": 16,
   "metadata": {},
   "outputs": [
    {
     "name": "stdout",
     "output_type": "stream",
     "text": [
      "['hallway', 11.25, 'kitchen', 18.0, 'living room', 20.0]\n",
      "['bedroom', 10.75, 'bathroom', 9.5]\n"
     ]
    }
   ],
   "source": [
    "# Create the areas list\n",
    "areas = [\"hallway\", 11.25, \"kitchen\", 18.0, \"living room\", 20.0, \"bedroom\", 10.75, \"bathroom\", 9.50]\n",
    "\n",
    "# Use slicing to create downstairs\n",
    "downstairs = areas[:6]\n",
    "\n",
    "# Use slicing to create upstairs\n",
    "upstairs = areas[6:]\n",
    "\n",
    "# Print out downstairs and upstairs\n",
    "print(downstairs)\n",
    "print(upstairs)"
   ]
  },
  {
   "cell_type": "markdown",
   "metadata": {},
   "source": [
    "### Slicing and dicing (2)\n",
    "In the video, Hugo first discussed the syntax where you specify both where to begin and end the slice of your list:\n",
    "\n",
    "`my_list[begin:end]`\n",
    "\n",
    "However, it's also possible not to specify these indexes. If you don't specify the begin index, Python figures out that you want to start your slice at the beginning of your list. If you don't specify the end index, the slice will go all the way to the last element of your list. To experiment with this, try the following commands in the IPython Shell:\n",
    "\n",
    "`x = [\"a\", \"b\", \"c\", \"d\"]`  \n",
    "\n",
    "`x[:2]`  \n",
    "\n",
    "`x[2:]`  \n",
    "\n",
    "`x[:]`\n",
    "\n",
    "#### Instructions\n",
    "\n",
    "- Create `downstairs` again, as the first `6` elements of areas. This time, simplify the slicing by omitting the `begin` index.\n",
    "- Create `upstairs` again, as the last `4` elements of areas. This time, simplify the slicing by omitting the `end `index."
   ]
  },
  {
   "cell_type": "code",
   "execution_count": 17,
   "metadata": {},
   "outputs": [],
   "source": [
    "# Create the areas list\n",
    "areas = [\"hallway\", 11.25, \"kitchen\", 18.0, \"living room\", 20.0, \"bedroom\", 10.75, \"bathroom\", 9.50]\n",
    "\n",
    "# Alternative slicing to create downstairs\n",
    "downstairs = areas[:6]\n",
    "\n",
    "# Alternative slicing to create upstairs\n",
    "upstairs = areas[6:]"
   ]
  },
  {
   "cell_type": "markdown",
   "metadata": {},
   "source": [
    "### Subsetting lists of lists\n",
    "\n",
    "You saw before that a Python list can contain practically anything; even other lists! To subset lists of lists, you can use the same technique as before: square brackets. Try out the commands in the following code sample in the IPython Shell:\n",
    "\n",
    "`x = [[\"a\", \"b\", \"c\"],`  \n",
    "\n",
    "     `[\"d\", \"e\", \"f\"],`  \n",
    "\n",
    "     `[\"g\", \"h\", \"i\"]]`  \n",
    "\n",
    "`x[2][0]`  \n",
    "\n",
    "`x[2][:2]`\n",
    "\n",
    "`x[2]` results in a list, that you can subset again by adding additional square brackets.\n",
    "\n",
    "What will `house[-1][1]` return? house, the list of lists that you created before, is already defined for you in the workspace. You can experiment with it in the IPython Shell."
   ]
  },
  {
   "cell_type": "code",
   "execution_count": 18,
   "metadata": {},
   "outputs": [
    {
     "data": {
      "text/plain": [
       "9.5"
      ]
     },
     "execution_count": 18,
     "metadata": {},
     "output_type": "execute_result"
    }
   ],
   "source": [
    "house[-1][1]"
   ]
  },
  {
   "cell_type": "markdown",
   "metadata": {},
   "source": [
    "### Manipulating Lists\n",
    "\n",
    "- Change list elements\n"
   ]
  },
  {
   "cell_type": "code",
   "execution_count": 19,
   "metadata": {},
   "outputs": [
    {
     "name": "stdout",
     "output_type": "stream",
     "text": [
      "['liz', 1.73, 'emma', 1.68, 'mom', 1.71, 'dad', 1.89]\n",
      "['liz', 1.73, 'emma', 1.68, 'mom', 1.71, 'dad', 1.86]\n",
      "['lisa', 1.74, 'emma', 1.68, 'mom', 1.71, 'dad', 1.86]\n"
     ]
    }
   ],
   "source": [
    "fam = [\"liz\", 1.73, \"emma\", 1.68, \"mom\", 1.71, \"dad\", 1.89]\n",
    "print(fam)\n",
    "\n",
    "fam[7] = 1.86\n",
    "print(fam)\n",
    "\n",
    "fam[0:2] = [\"lisa\", 1.74]\n",
    "print(fam)\n",
    "\n",
    "\n"
   ]
  },
  {
   "cell_type": "markdown",
   "metadata": {},
   "source": [
    "- Adding and Removing list elements"
   ]
  },
  {
   "cell_type": "code",
   "execution_count": 20,
   "metadata": {},
   "outputs": [
    {
     "name": "stdout",
     "output_type": "stream",
     "text": [
      "['lisa', 1.74, 'emma', 1.68, 'mom', 1.71, 'dad', 1.86, 'me', 1.79]\n",
      "['lisa', 1.74, 1.68, 'mom', 1.71, 'dad', 1.86, 'me', 1.79]\n"
     ]
    }
   ],
   "source": [
    "fam_ext = fam + [\"me\", 1.79] # Add elements in a list\n",
    "print(fam_ext)\n",
    "\n",
    "del(fam_ext[2:3])\n",
    "print(fam_ext)\n",
    "\n",
    " "
   ]
  },
  {
   "cell_type": "markdown",
   "metadata": {},
   "source": [
    "### Replace list elements\n",
    "Replacing list elements is pretty easy. Simply subset the list and assign new values to the subset. You can select single elements or you can change entire list slices at once.\n",
    "\n",
    "Use the IPython Shell to experiment with the commands below. Can you tell what's happening and why?\n",
    "\n",
    "`x = [\"a\", \"b\", \"c\", \"d\"]`   \n",
    "`x[1] = \"r\"`  \n",
    "\n",
    "`x[2:] = [\"s\", \"t\"]`\n",
    "\n",
    "\n",
    "For this and the following exercises, you'll continue working on the areas list that contains the names and areas of different rooms in a house.\n",
    "\n",
    "#### Instructions\n",
    "\n",
    "- Update the area of the bathroom area to be `10.50 `square meters instead of `9.50`.\n",
    "- Make the areas list more trendy! Change `\"living room\"` to `\"chill zone\"`.\n"
   ]
  },
  {
   "cell_type": "code",
   "execution_count": 21,
   "metadata": {},
   "outputs": [
    {
     "data": {
      "text/plain": [
       "['hallway',\n",
       " 11.25,\n",
       " 'kitchen',\n",
       " 18.0,\n",
       " 'chill zone',\n",
       " 20.0,\n",
       " 'bedroom',\n",
       " 10.75,\n",
       " 'bathroom',\n",
       " 10.5]"
      ]
     },
     "execution_count": 21,
     "metadata": {},
     "output_type": "execute_result"
    }
   ],
   "source": [
    "# Create the areas list\n",
    "areas = [\"hallway\", 11.25, \"kitchen\", 18.0, \"living room\", 20.0, \"bedroom\", 10.75, \"bathroom\", 9.50]\n",
    "\n",
    "# Correct the bathroom area\n",
    "areas[-1] = 10.50\n",
    "\n",
    "# Change \"living room\" to \"chill zone\"\n",
    "areas[4] = \"chill zone\"\n",
    "\n",
    "areas"
   ]
  },
  {
   "cell_type": "markdown",
   "metadata": {},
   "source": [
    "### Extend a list\n",
    "If you can change elements in a list, you sure want to be able to add elements to it, right? You can use the `+` operator:\n",
    "\n",
    "`x = [\"a\", \"b\", \"c\", \"d\"]`\n",
    "\n",
    "`y = x + [\"e\", \"f\"]`\n",
    "\n",
    "\n",
    "You just won the lottery, awesome! You decide to build a poolhouse and a garage. Can you add the information to the `areas` list?\n",
    "\n",
    "#### Instructions\n",
    "\n",
    "Use the `+` operator to paste the list `[\"poolhouse\", 24.5]` to the end of the areas list. Store the resulting list as `areas_1`.\n",
    "Further extend areas_1 by adding data on your garage. Add the string` \"garage\" `and float `15.45`. Name the resulting list `areas_2`."
   ]
  },
  {
   "cell_type": "code",
   "execution_count": 22,
   "metadata": {},
   "outputs": [
    {
     "data": {
      "text/plain": [
       "['hallway',\n",
       " 11.25,\n",
       " 'kitchen',\n",
       " 18.0,\n",
       " 'chill zone',\n",
       " 20.0,\n",
       " 'bedroom',\n",
       " 10.75,\n",
       " 'bathroom',\n",
       " 10.5,\n",
       " 'poolhouse',\n",
       " 24.5,\n",
       " 'garage',\n",
       " 15.45]"
      ]
     },
     "execution_count": 22,
     "metadata": {},
     "output_type": "execute_result"
    }
   ],
   "source": [
    "# Create the areas list and make some changes\n",
    "areas = [\"hallway\", 11.25, \"kitchen\", 18.0, \"chill zone\", 20.0,\n",
    "         \"bedroom\", 10.75, \"bathroom\", 10.50]\n",
    "areas\n",
    "\n",
    "# Add poolhouse data to areas, new list is areas_1\n",
    "areas_1 = areas + [\"poolhouse\", 24.5]\n",
    "areas_1\n",
    " \n",
    "\n",
    "# Add garage data to areas_1, new list is areas_2\n",
    "areas_2 = areas_1 + [\"garage\", 15.45]\n",
    "areas_2"
   ]
  },
  {
   "cell_type": "markdown",
   "metadata": {},
   "source": [
    "`NB:` There was a mistake! The amount you won with the lottery is not that big after all and it looks like the poolhouse isn't going to happen. You decide to remove the corresponding string and float from the areas list."
   ]
  },
  {
   "cell_type": "code",
   "execution_count": 23,
   "metadata": {},
   "outputs": [
    {
     "data": {
      "text/plain": [
       "['hallway',\n",
       " 11.25,\n",
       " 'kitchen',\n",
       " 18.0,\n",
       " 'chill zone',\n",
       " 20.0,\n",
       " 'bedroom',\n",
       " 10.75,\n",
       " 'bathroom',\n",
       " 10.5,\n",
       " 'garage',\n",
       " 15.45]"
      ]
     },
     "execution_count": 23,
     "metadata": {},
     "output_type": "execute_result"
    }
   ],
   "source": [
    "del(areas_2[-4:-2])\n",
    "areas_2"
   ]
  },
  {
   "cell_type": "markdown",
   "metadata": {},
   "source": [
    "### Inner workings of lists\n",
    "\n",
    "At the end of the video, Hugo explained how Python lists work behind the scenes. In this exercise you'll get some hands-on experience with this.\n",
    "\n",
    "The Python code in the script already creates a list with the name `areas` and a copy named `areas_copy`. Next, the first element in the `areas_copy` list is changed and the `areas` list is printed out. If you hit Run Code you'll see that, although you've changed `areas_copy`, the change also takes effect in the `areas` list. That's because `areas` and `areas_cop`y point to the same list.\n",
    "\n",
    "If you want to prevent changes in `areas_copy` from also taking effect in `areas`, you'll have to do a more explicit copy of the `areas` list. You can do this with `list()` or by using `[:]`.\n",
    "\n",
    "#### Instructions\n",
    "\n",
    "- Change the second command, that creates the variable `areas_copy`, such that `areas_copy` is an explicit copy of `areas`. \n",
    "- `After your edit, changes made to `areas_copy` shouldn't affect `areas`. Submit the answer to check this."
   ]
  },
  {
   "cell_type": "code",
   "execution_count": 24,
   "metadata": {},
   "outputs": [
    {
     "name": "stdout",
     "output_type": "stream",
     "text": [
      "[11.25, 18.0, 20.0, 10.75, 9.5]\n"
     ]
    }
   ],
   "source": [
    "# Create list areas\n",
    "areas = [11.25, 18.0, 20.0, 10.75, 9.50]\n",
    "\n",
    "# Create areas_copy\n",
    "areas_copy = list(areas)\n",
    "\n",
    "# Change areas_copy\n",
    "areas_copy[0] = 5.0\n",
    "\n",
    "# Print areas\n",
    "print(areas)"
   ]
  },
  {
   "cell_type": "markdown",
   "metadata": {},
   "source": [
    "## Chapter 3 - Functions and Packages\n",
    "Piece of re-usable code aimed at solving a particular task:\n",
    "Examples of built-in fuctions:\n",
    "- type()\n",
    "- max()\n",
    "- round(number, n-digits) - Rounds off the the specified n-digits decimal points.\n",
    "- round(number) - Rounds off to the nearest integer"
   ]
  },
  {
   "cell_type": "markdown",
   "metadata": {},
   "source": [
    "#### Familiar functions\n",
    "\n",
    "Out of the box, Python offers a bunch of built-in functions to make your life as a data scientist easier. You already know two such functions: `print()` and `type()`. You've also used the functions `str()`, `int()`, `bool()` and `float()` to switch between data types. These are built-in functions as well.\n",
    "\n",
    "Calling a function is easy. To get the type of 3.0 and store the output as a new variable, result, you can use the following:\n",
    "\n",
    "`result = type(3.0)`\n",
    "The general recipe for calling functions and saving the result to a variable is thus:\n",
    "\n",
    "`output = function_name(input)`\n",
    "\n",
    "### Instructions\n",
    "\n",
    "- Use `print()` in combination with `type()` to print out the type of var1.\n",
    "- Use `len()` to get the length of the list var1. Wrap it in a `print()` call to directly print it out.\n",
    "- Use `int()` to convert var2 to an integer. Store the output as out2."
   ]
  },
  {
   "cell_type": "code",
   "execution_count": 25,
   "metadata": {},
   "outputs": [
    {
     "name": "stdout",
     "output_type": "stream",
     "text": [
      "<class 'list'>\n",
      "4\n"
     ]
    }
   ],
   "source": [
    "# Create variables var1 and var2\n",
    "var1 = [1, 2, 3, 4]\n",
    "var2 = True\n",
    "\n",
    "# Print out type of var1\n",
    "print(type(var1))\n",
    "\n",
    "# Print out length of var1\n",
    "print(len(var1))\n",
    "\n",
    "# Convert var2 to an integer: out2\n",
    "out2 = int(var2)"
   ]
  },
  {
   "cell_type": "markdown",
   "metadata": {},
   "source": [
    "#### Getting Help!\n",
    "\n",
    "Maybe you already know the name of a Python function, but you still have to figure out how to use it. Ironically, you have to ask for information about a function with another function: `help()`. In IPython specifically, you can also use `?` before the function name.\n",
    "\n",
    "To get help on the `max()` function, for example, you can use one of these calls:\n",
    "\n",
    "`help(max)\n",
    "?max`\n",
    "\n",
    "Use the IPython Shell to open up the documentation on pow(). Which of the following statements is true?"
   ]
  },
  {
   "cell_type": "code",
   "execution_count": 26,
   "metadata": {},
   "outputs": [
    {
     "data": {
      "text/plain": [
       "\u001b[0;31mSignature:\u001b[0m \u001b[0mpow\u001b[0m\u001b[0;34m(\u001b[0m\u001b[0mbase\u001b[0m\u001b[0;34m,\u001b[0m \u001b[0mexp\u001b[0m\u001b[0;34m,\u001b[0m \u001b[0mmod\u001b[0m\u001b[0;34m=\u001b[0m\u001b[0;32mNone\u001b[0m\u001b[0;34m)\u001b[0m\u001b[0;34m\u001b[0m\u001b[0;34m\u001b[0m\u001b[0m\n",
       "\u001b[0;31mDocstring:\u001b[0m\n",
       "Equivalent to base**exp with 2 arguments or base**exp % mod with 3 arguments\n",
       "\n",
       "Some types, such as ints, are able to use a more efficient algorithm when\n",
       "invoked using the three argument form.\n",
       "\u001b[0;31mType:\u001b[0m      builtin_function_or_method"
      ]
     },
     "metadata": {},
     "output_type": "display_data"
    }
   ],
   "source": [
    "?max\n",
    "?pow"
   ]
  },
  {
   "cell_type": "markdown",
   "metadata": {},
   "source": [
    "#### Multiple arguments\n",
    "\n",
    "In the previous exercise, you identified optional arguments by viewing the documentation with `help()`. You'll now apply this to change the behavior of the `sorted()` function.\n",
    "\n",
    "Have a look at the documentation of `sorted()` by typing help(sorted) in the IPython Shell.\n",
    "\n",
    "You'll see that `sorted()` takes three arguments: `iterable`, `key`, and `reverse.`\n",
    "\n",
    "`key=None` means that if you don't specify the key argument, it will be `None`. `reverse=False` means that if you don't specify the reverse argument, it will be `False`, by default.\n",
    "\n",
    "In this exercise, you'll only have to specify iterable and reverse, not key. The first input you pass to `sorted()` will be matched to the iterable argument, but what about the second input? To tell Python you want to specify reverse without changing anything about key, you can use = to assign it a new value:\n",
    "\n",
    "`sorted(____, reverse=____)`"
   ]
  },
  {
   "cell_type": "markdown",
   "metadata": {},
   "source": [
    "#### Instructions\n",
    "\n",
    "- Use `+` to merge the contents of first and second into a new list: full.\n",
    "- Call `sorted()` on full and specify the reverse argument to be True. Save the sorted list as full_sorted.\n",
    "- Finish off by printing out full_sorted."
   ]
  },
  {
   "cell_type": "code",
   "execution_count": 27,
   "metadata": {},
   "outputs": [
    {
     "name": "stdout",
     "output_type": "stream",
     "text": [
      "[11.25, 18.0, 20.0, 10.75, 9.5]\n",
      "[20.0, 18.0, 11.25, 10.75, 9.5]\n"
     ]
    }
   ],
   "source": [
    "# Create lists first and second\n",
    "first = [11.25, 18.0, 20.0]\n",
    "second = [10.75, 9.50]\n",
    "\n",
    "# Paste together first and second: full\n",
    "\n",
    "full = first + second\n",
    "print(full)\n",
    "# Sort full in descending order: full_sorted\n",
    "\n",
    "full_sorted = sorted(full, reverse=True)\n",
    "# Print out full_sorted\n",
    "print(full_sorted)"
   ]
  },
  {
   "cell_type": "markdown",
   "metadata": {},
   "source": [
    "#### Methods\n",
    "\n",
    "`Methods:` Functions that belongs to Python objects.\n",
    "\n",
    "Everything in Python is an object. Objects has methods associated with them depending on type.\n",
    "\n",
    "`NB:` Some methods can be found in different types but the behave differently.\n",
    "\n",
    "#### Examples:\n",
    "##### str methods\n",
    "- .capitalize()\n",
    "- .replace()\n",
    "- .append()\n",
    "\n",
    "##### List methods\n",
    "- .index()\n",
    "- .count()\n",
    "\n",
    "\n"
   ]
  },
  {
   "cell_type": "markdown",
   "metadata": {},
   "source": [
    "#### String Methods\n",
    "\n",
    "Strings come with a bunch of methods. Follow the instructions closely to discover some of them. If you want to discover them in more detail, you can always type `help(str)` in the IPython Shell.\n",
    "\n",
    "A string place has already been created for you to experiment with.\n",
    "\n",
    "#### Instructions\n",
    "\n",
    "- Use the `upper()` method on place and store the result in `place_up`. Use the syntax for calling methods that you learned in the previous video.\n",
    "- Print out place and `place_up`. Did both change?\n",
    "- Print out the number of `o's` on the variable place by calling `count()` on place and passing the letter `'o'` as an input to the method. We're talking about the variable place, not the word `\"place\"!`"
   ]
  },
  {
   "cell_type": "code",
   "execution_count": 28,
   "metadata": {},
   "outputs": [
    {
     "name": "stdout",
     "output_type": "stream",
     "text": [
      "poolhouse\n",
      "POOLHOUSE\n",
      "3\n"
     ]
    }
   ],
   "source": [
    "# string to experiment with: place\n",
    "place = \"poolhouse\"\n",
    "\n",
    "# Use upper() on place: place_up\n",
    "place_up = place.upper()\n",
    "\n",
    "# Print out place and place_up\n",
    "print(place)\n",
    "print(place_up)\n",
    "\n",
    "# Print out the number of o's in place\n",
    "print(place.count(\"o\"))"
   ]
  },
  {
   "cell_type": "markdown",
   "metadata": {},
   "source": [
    "#### List Methods\n",
    "\n",
    "Strings are not the only Python types that have methods associated with them. `Lists`, `floats`, `integers` and `booleans` are also types that come packaged with a bunch of useful methods. In this exercise, you'll be experimenting with:\n",
    "\n",
    "- `index()`, to get the index of the first element of a list that matches its input and\n",
    "- `count()`, to get the number of times an element appears in a list.\n",
    "\n",
    "\n",
    "You'll be working on the list with the area of different parts of a house: areas.\n",
    "\n",
    "Instructions\n",
    "\n",
    "- Use the `index()` method to get the index of the element in areas that is equal to `20.0`. Print out this index.\n",
    "- Call `count()` on areas to find out how many times `9.50` appears in the list. Again, simply print out this number."
   ]
  },
  {
   "cell_type": "code",
   "execution_count": 29,
   "metadata": {},
   "outputs": [
    {
     "name": "stdout",
     "output_type": "stream",
     "text": [
      "2\n",
      "1\n"
     ]
    }
   ],
   "source": [
    "# Create list areas\n",
    "areas = [11.25, 18.0, 20.0, 10.75, 9.50]\n",
    "\n",
    "# Print out the index of the element 20.0\n",
    "print(areas.index(20.0))\n",
    "\n",
    "# Print out how often 9.50 appears in areas\n",
    "print(areas.count(9.50))\n"
   ]
  },
  {
   "cell_type": "markdown",
   "metadata": {},
   "source": [
    "#### List Methods (2)\n",
    "\n",
    "Most list methods will change the list they're called on. Examples are:\n",
    "\n",
    "- `append()`, that adds an element to the list it is called on,\n",
    "- `remove()`, that removes the first element of a list that matches the input, and\n",
    "- `reverse()`, that reverses the order of the elements in the list it is called on.\n",
    "\n",
    "You'll be working on the list with the area of different parts of the house: areas.\n",
    "\n",
    "#### Instructions\n",
    "\n",
    "- Use `append()` twice to add the size of the `poolhouse` and the `garage` again: `24.5` and `15.45`, respectively. Make sure to add them in this order.\n",
    "- Print out `areas`\n",
    "- Use the `reverse()` method to reverse the order of the elements in `areas`.\n",
    "- Print out `areas` once more.\n"
   ]
  },
  {
   "cell_type": "code",
   "execution_count": 30,
   "metadata": {},
   "outputs": [
    {
     "name": "stdout",
     "output_type": "stream",
     "text": [
      "[11.25, 18.0, 20.0, 10.75, 9.5, 24.5, 15.45]\n",
      "[15.45, 24.5, 9.5, 10.75, 20.0, 18.0, 11.25]\n"
     ]
    }
   ],
   "source": [
    "# Create list areas\n",
    "areas = [11.25, 18.0, 20.0, 10.75, 9.50]\n",
    "\n",
    "# Use append twice to add poolhouse and garage size\n",
    "areas.append(24.5)\n",
    "areas.append(15.45)\n",
    "\n",
    "# Print out areas\n",
    "\n",
    "print(areas)\n",
    "# Reverse the orders of the elements in areas\n",
    "areas.reverse()\n",
    "\n",
    "# Print out areas\n",
    "print(areas)"
   ]
  },
  {
   "cell_type": "markdown",
   "metadata": {},
   "source": [
    "#### Packages\n",
    "\n",
    "A `package` is a directory of Python Scripts, where each script is called a `module`.\n",
    "\n",
    "Modules specifies `functions`, `methods`, `types` e.t.c in solving a particular problem."
   ]
  },
  {
   "cell_type": "markdown",
   "metadata": {},
   "source": [
    "#### Import package\n",
    "\n",
    "As a data scientist, some notions of geometry never hurt. Let's refresh some of the basics.\n",
    "\n",
    "For a fancy clustering algorithm, you want to find the `circumference`, \n",
    "and `area`, of a circle. When the radius of the circle is `r`, you can calculate \n",
    "*A* and *C* as:\n",
    "\n",
    "$$ A = \\pi r^2 $$\n",
    "\n",
    "$$ C = 2 \\pi r $$\n",
    "\n",
    "In Python, the symbol for exponentiation is `**`. This operator raises the number to its left to the power of the number to its right. For example `3**4` is `3` to the power of `4` and will give `81`.\n",
    "\n",
    "To use the constant `pi`, you'll need the math package. A variable `r` is already coded in the script. Fill in the code to calculate `C` and `A` and see how the `print()` functions create some nice printouts.\n",
    "\n",
    "#### Instructions\n",
    "\n",
    "- Import the `math` package. Now you can access the constant `pi` with `math.pi`.\n",
    "- Calculate the circumference of the circle and store it in `C`.\n",
    "- Calculate the area of the circle and store it in `A`.\n",
    "\n"
   ]
  },
  {
   "cell_type": "code",
   "execution_count": 31,
   "metadata": {},
   "outputs": [
    {
     "name": "stdout",
     "output_type": "stream",
     "text": [
      "Circumference: 2.701769682087222\n",
      "Area: 0.5808804816487527\n"
     ]
    }
   ],
   "source": [
    "# Definition of radius\n",
    "r = 0.43\n",
    "\n",
    "# Import the math package\n",
    "import math\n",
    "\n",
    "# Calculate C\n",
    "C = 2 * r * math.pi\n",
    "\n",
    "# Calculate A\n",
    "A = r ** 2  * math.pi\n",
    "\n",
    "# Build printout\n",
    "print(\"Circumference: \" + str(C))\n",
    "print(\"Area: \" + str(A))"
   ]
  },
  {
   "cell_type": "markdown",
   "metadata": {},
   "source": [
    "#### Selective import\n",
    "\n",
    "General imports, like `import math`, make all functionality from the math package available to you. However, if you decide to only use a specific part of a package, you can always make your import more selective:\n",
    "\n",
    "`from math import pi`\n",
    "\n",
    "Let's say the Moon's orbit around planet Earth is a perfect circle, with a radius `r (in km)` that is defined in the script.\n",
    "\n",
    "#### Instructions\n",
    "\n",
    "- Perform a selective import from the math package where you only import the `radians` function.\n",
    "- Calculate the distance travelled by the Moon over `12 degrees` of its orbit. Assign the result to `dist`. You can calculate this as `r * phi`, where `r`is the radius and `phi` is the angle in radians. To convert an angle in degrees to an angle in radians, use the `radians()` function, which you just imported.\n",
    "- Print out `dist`.\n",
    "\n"
   ]
  },
  {
   "cell_type": "code",
   "execution_count": 32,
   "metadata": {},
   "outputs": [
    {
     "name": "stdout",
     "output_type": "stream",
     "text": [
      "40317.10572106901\n"
     ]
    }
   ],
   "source": [
    "# Definition of radius\n",
    "r = 192500\n",
    "\n",
    "# Import radians function of math package\n",
    "from math import radians\n",
    "\n",
    "# Travel distance of Moon over 12 degrees. Store in dist.\n",
    "dist = r * radians(12)\n",
    "\n",
    "# Print out dist\n",
    "print(dist)"
   ]
  },
  {
   "cell_type": "markdown",
   "metadata": {},
   "source": [
    "#### Different ways of importing\n",
    "\n",
    "There are several ways to import packages and modules into Python. Depending on the import call, you'll have to use different Python code.\n",
    "\n",
    "Suppose you want to use the function `inv()`, which is in the `linalg` subpackage of the `scipy` package. You want to be able to use this function as follows:\n",
    "\n",
    "`my_inv([[1,2], [3,4]])`\n",
    "\n",
    "Which import statement will you need in order to run the above code without an error?\n",
    "\n",
    "#### Possible answers\n",
    "\n",
    "- import scipy\n",
    "- import scipy.linalg\n",
    "- from scipy.linalg import my_inv\n",
    "- **`from scipy.linalg import inv as my_inv`** This is the answer\n",
    "\n"
   ]
  },
  {
   "cell_type": "markdown",
   "metadata": {},
   "source": [
    "#### Use ipywidgets to make the options above selectable"
   ]
  },
  {
   "cell_type": "code",
   "execution_count": 33,
   "metadata": {},
   "outputs": [
    {
     "data": {
      "application/vnd.jupyter.widget-view+json": {
       "model_id": "53c87405d5544e7eb7cd7c8472951b33",
       "version_major": 2,
       "version_minor": 0
      },
      "text/plain": [
       "RadioButtons(description='Select an option:', options=('import scipy', 'import scipy.linalg', 'from scipy.lina…"
      ]
     },
     "metadata": {},
     "output_type": "display_data"
    },
    {
     "data": {
      "application/vnd.jupyter.widget-view+json": {
       "model_id": "4c24362d7a2149a4884842bc3e8f924e",
       "version_major": 2,
       "version_minor": 0
      },
      "text/plain": [
       "Output()"
      ]
     },
     "metadata": {},
     "output_type": "display_data"
    }
   ],
   "source": [
    "import ipywidgets as widgets\n",
    "from IPython.display import display\n",
    "\n",
    "options = [\"import scipy\", \"import scipy.linalg\", \"from scipy.linalg import my_inv\", \"from scipy.linalg import inv as my_inv\"]\n",
    "\n",
    "radio_buttons = widgets.RadioButtons(\n",
    "    options=options,\n",
    "    description='Select an option:',\n",
    "    disabled=False\n",
    ")\n",
    "\n",
    "output = widgets.Output()\n",
    "\n",
    "def on_change(change):\n",
    "    with output:\n",
    "        print(f\"Selected option: {change['new']}\")\n",
    "\n",
    "radio_buttons.observe(on_change, names='value')\n",
    "\n",
    "display(radio_buttons)\n",
    "display(output)\n"
   ]
  },
  {
   "cell_type": "markdown",
   "metadata": {},
   "source": [
    "## Chapter 4 - Numpy(Numerical Python)\n",
    "\n",
    "- Installed by: **`pip install numpy`**\n",
    "- Import numpy: **`import numpy as np`**\n"
   ]
  },
  {
   "cell_type": "markdown",
   "metadata": {},
   "source": [
    "#### List recap\n",
    "\n",
    "- Lists are powerful.\n",
    "- A list is a collection of values.\n",
    "- Lists can holds different types.\n",
    "- You can change, add or remove elements in a list,\n",
    "\n",
    "**Lists misses on:** Speedy mathematical calculations over collections.\n",
    "\n",
    "#### Numpy Arrays\n",
    "- Alternative to Python lists.\n",
    "- Calculations can be done over entire array.\n",
    "- Are easy and fast.\n",
    "- perfoms calculations elementwise in a list.\n",
    "\n",
    "**NB:** `Numpy arrays can only contain values of a single type.`"
   ]
  },
  {
   "cell_type": "markdown",
   "metadata": {},
   "source": [
    "### Comparison"
   ]
  },
  {
   "cell_type": "code",
   "execution_count": 34,
   "metadata": {},
   "outputs": [
    {
     "ename": "TypeError",
     "evalue": "unsupported operand type(s) for ** or pow(): 'list' and 'int'",
     "output_type": "error",
     "traceback": [
      "\u001b[0;31m---------------------------------------------------------------------------\u001b[0m",
      "\u001b[0;31mTypeError\u001b[0m                                 Traceback (most recent call last)",
      "Cell \u001b[0;32mIn[34], line 3\u001b[0m\n\u001b[1;32m      1\u001b[0m height \u001b[38;5;241m=\u001b[39m [\u001b[38;5;241m1.73\u001b[39m, \u001b[38;5;241m1.68\u001b[39m, \u001b[38;5;241m1.71\u001b[39m, \u001b[38;5;241m1.89\u001b[39m, \u001b[38;5;241m1.79\u001b[39m]\n\u001b[1;32m      2\u001b[0m weight \u001b[38;5;241m=\u001b[39m [\u001b[38;5;241m65.4\u001b[39m, \u001b[38;5;241m59.2\u001b[39m, \u001b[38;5;241m63.6\u001b[39m, \u001b[38;5;241m88.4\u001b[39m, \u001b[38;5;241m68.7\u001b[39m]\n\u001b[0;32m----> 3\u001b[0m weight \u001b[38;5;241m/\u001b[39m height \u001b[38;5;241m*\u001b[39m\u001b[38;5;241m*\u001b[39m \u001b[38;5;241m2\u001b[39m\n",
      "\u001b[0;31mTypeError\u001b[0m: unsupported operand type(s) for ** or pow(): 'list' and 'int'"
     ]
    }
   ],
   "source": [
    "height = [1.73, 1.68, 1.71, 1.89, 1.79]\n",
    "weight = [65.4, 59.2, 63.6, 88.4, 68.7]\n",
    "weight / height ** 2\n",
    "\n",
    "# This throws and error: TypeError: unsupported operand type(s) for ** or pow(): 'list' and 'int'"
   ]
  },
  {
   "cell_type": "code",
   "execution_count": null,
   "metadata": {},
   "outputs": [],
   "source": [
    "# Convert the list into np array\n",
    "\n",
    "np_height = np.array(height)\n",
    "np_weight = np.array(weight)\n",
    "np_weight / np_height ** 2"
   ]
  },
  {
   "cell_type": "markdown",
   "metadata": {},
   "source": [
    "**NB:** Numpy arrays has methods: `Different types: different behavior!`"
   ]
  },
  {
   "cell_type": "code",
   "execution_count": null,
   "metadata": {},
   "outputs": [],
   "source": [
    "python_list = [1, 2, 3]\n",
    "numpy_array = np.array([1, 2, 3])\n",
    "\n",
    "print(python_list + python_list) # Combines into one list\n",
    "print(numpy_array + numpy_array) # performs elementwise calculations"
   ]
  },
  {
   "cell_type": "markdown",
   "metadata": {},
   "source": [
    "### Your First NumPy Array\n",
    "\n",
    "In this chapter, we're going to dive into the world of baseball. Along the way, you'll get comfortable with the basics of `numpy`, a powerful package to do data science.\n",
    "\n",
    "A list `baseball` has already been defined in the Python script, representing the height of some baseball players in centimeters. Can you add some code here and there to create a `numpy` array from it?\n",
    "\n",
    "#### Instructions\n",
    "\n",
    "- Import the `numpy` package as `np`, so that you can refer to numpy with `np`.\n",
    "- Use `np.array()` to create a numpy array from` baseball`. Name this array `np_baseball`.\n",
    "- Print out the type of `np_baseball` to check that you got it right."
   ]
  },
  {
   "cell_type": "code",
   "execution_count": null,
   "metadata": {},
   "outputs": [],
   "source": [
    "# Create list baseball\n",
    "baseball = [180, 215, 210, 210, 188, 176, 209, 200]\n",
    "\n",
    "# Import the numpy package as np\n",
    "import numpy as np\n",
    "\n",
    "\n",
    "# Create a numpy array from baseball: np_baseball\n",
    "np_baseball = np.array(baseball)\n",
    "\n",
    "# Print out type of np_baseball\n",
    "print(type(np_baseball))"
   ]
  },
  {
   "cell_type": "markdown",
   "metadata": {},
   "source": [
    "#### Baseball players' height\n",
    "\n",
    "You are a huge baseball fan. You decide to call the MLB (Major League Baseball) and ask around for some more statistics on the height of the main players. They pass along data on more than a thousand players, which is stored as a regular Python list: `height_in`. The height is expressed in inches. Can you make a `numpy` array out of it and convert the units to meters?\n",
    "\n",
    "`height_in` is already available and the `numpy` package is loaded, so you can start straight away (Source: stat.ucla.edu).\n",
    "\n",
    "#### Instructions\n",
    "- Create a numpy array from `height_in`. Name this new array `np_height_in`.\n",
    "- Print `np_height_in`.\n",
    "- Multiply `np_height_in` with `0.0254` to convert all height measurements from inches to meters. Store the new values in a new array, `np_height_m`.\n",
    "- Print out `np_height_m` and check if the output makes sense."
   ]
  },
  {
   "cell_type": "markdown",
   "metadata": {},
   "source": [
    "#### Step 1"
   ]
  },
  {
   "cell_type": "code",
   "execution_count": 37,
   "metadata": {},
   "outputs": [
    {
     "name": "stdout",
     "output_type": "stream",
     "text": [
      "[74 74 72 ... 75 75 73]\n",
      "[1.8796 1.8796 1.8288 ... 1.905  1.905  1.8542]\n"
     ]
    }
   ],
   "source": [
    "# Import numpy and pandas\n",
    "\n",
    "import numpy as np\n",
    "import pandas as pd\n",
    "\n",
    "# height_in is available as a regular list\n",
    "\n",
    "df = pd.read_csv(\"data/baseball.csv\")\n",
    "\n",
    "# Extract the 'Height' column and create a numpy array: np_height_in\n",
    "np_height_in = df['Height'].to_numpy()\n",
    "\n",
    "# Print out np_height_in\n",
    "print(np_height_in)\n",
    "\n",
    "# Convert np_height_in to m: np_height_m\n",
    "np_height_m = np_height_in * 0.0254\n",
    "\n",
    "# Print np_height_m\n",
    "print(np_height_m)"
   ]
  },
  {
   "cell_type": "markdown",
   "metadata": {},
   "source": [
    "#### Baseball player's BMI\n",
    "\n",
    "The MLB also offers to let you analyze their weight data. Again, both are available as regular Python lists: `height_in` and `weight_lb`. `height_in` is in inches and `weight_lb` is in pounds.\n",
    "\n",
    "It's now possible to calculate the `BMI` of each baseball player. Python code to convert `height_in` to a numpy array with the correct units is already available in the workspace. Follow the instructions step by step and finish the game! `height_in` and `weight_lb` are available as regular lists.\n",
    "\n",
    "#### Instructions\n",
    "\n",
    "- Create a numpy array from the `weight_lb` list with the correct units. Multiply by `0.453592` to go from `pounds` to `kilograms`. Store the resulting numpy array as `np_weight_kg`.\n",
    "- Use `np_height_m` and `np_weight_kg` to calculate the BMI of each player. Use the following equation: \n",
    "  \n",
    "  $$BMI = \\frac{{\\text{{weight in kilograms}}}}{{(\\text{{height in meters}})^2}}$$\n",
    "\n",
    "- Save the resulting numpy array as `bmi`.\n",
    "\n",
    "- Print out `bmi`.\n",
    "\n"
   ]
  },
  {
   "cell_type": "markdown",
   "metadata": {},
   "source": [
    "#### Step 2"
   ]
  },
  {
   "cell_type": "code",
   "execution_count": null,
   "metadata": {},
   "outputs": [],
   "source": [
    "# This is continuation from step 1 above\n",
    "\n",
    "# Extract the 'Weight' column and create a numpy array: weight_lb\n",
    "weight_lb = df['Weight'].to_numpy()\n",
    "\n",
    "# Create array from height_in with metric units: np_height_m\n",
    "np_height_m = np.array(np_height_in) * 0.0254\n",
    "\n",
    "# Create array from weight_lb with metric units: np_weight_kg\n",
    "np_weight_kg = np.array(weight_lb) * 0.453592\n",
    " \n",
    "# Calculate the BMI: bmi\n",
    "bmi = np_weight_kg / np_height_m ** 2\n",
    "\n",
    "\n",
    "# Print out bmi\n",
    "print(bmi)"
   ]
  },
  {
   "cell_type": "markdown",
   "metadata": {},
   "source": [
    "#### Lightweight baseball players\n",
    "\n",
    "To subset both regular `Python lists` and `numpy arrays`, you can use square brackets:\n",
    "\n",
    "`x = [4 , 9 , 6, 3, 1]`   \n",
    "`x[1]`  \n",
    "\n",
    "`import numpy as np`  \n",
    "`y = np.array(x)`   \n",
    "`y[1]`\n",
    "\n",
    "For numpy specifically, you can also use `boolean` numpy arrays:\n",
    "\n",
    "`high = y > 5`  \n",
    "`y[high]`\n",
    "\n",
    "The code that calculates the `BMI` of all baseball players is already included. Follow the instructions and reveal interesting things from the data! `height_in` and `weight_lb `are available as regular lists.\n",
    "\n",
    "#### Instructions\n",
    "\n",
    "- Create a boolean numpy array: the element of the array should be `True` if the corresponding baseball player's BMI is below `21`. You can use the `<` operator for this. Name the array `light`.\n",
    "- Print the array `light`.\n",
    "- Print out a numpy array with the `BMIs` of all baseball players whose BMI is below `21`. Use `light` inside square brackets to do a selection on the `bmi array`.\n",
    "\n"
   ]
  },
  {
   "cell_type": "markdown",
   "metadata": {},
   "source": [
    "#### Step 3"
   ]
  },
  {
   "cell_type": "code",
   "execution_count": null,
   "metadata": {},
   "outputs": [],
   "source": [
    "# This is continuation from step 1 and step 2 above\n",
    "\n",
    "# Create the light array\n",
    "light = bmi < 21\n",
    "\n",
    "# Print out light\n",
    "\n",
    "print(light)\n",
    "# Print out BMIs of all baseball players whose BMI is below 21\n",
    "print(bmi[bmi < 21])"
   ]
  },
  {
   "cell_type": "markdown",
   "metadata": {},
   "source": [
    "#### NumPy Side Effects\n",
    "\n",
    "As Hugo explained before, numpy is great for doing vector arithmetic. If you compare its functionality with regular Python `lists`, however, some things have changed.\n",
    "\n",
    "First of all, numpy `arrays` cannot contain elements with **different types**. If you try to build such a list, some of the elements' types are changed to end up with a homogeneous list. This is known as `type coercion`.\n",
    "\n",
    "Second, the typical arithmetic operators, such as `+`, `-`,` *` and `/` have a different meaning for regular Python lists and numpy arrays.\n",
    "\n",
    "Have a look at this line of code:\n",
    "\n",
    "**`np.array([True, 1, 2]) + np.array([3, 4, False])`**\n",
    "\n",
    "Can you tell which code chunk builds the exact same Python object? The numpy package is already imported as `np`, so you can start experimenting in the IPython Shell straight away!\n",
    "\n",
    "#### Instructions\n",
    "#### Possible answers\n",
    "\n",
    "- np.array([True, 1, 2, 3, 4, False])\n",
    "\n",
    "- **`np.array([4, 3, 0]) + np.array([0, 2, 2])`** This is the Answer\n",
    "\n",
    "- np.array([1, 1, 2]) + np.array([3, 4, -1])\n",
    "\n",
    "- np.array([0, 1, 2, 3, 4, 5])\n",
    "\n"
   ]
  },
  {
   "cell_type": "markdown",
   "metadata": {},
   "source": [
    "#### Use ipywidgets to make the options above selectable"
   ]
  },
  {
   "cell_type": "code",
   "execution_count": null,
   "metadata": {},
   "outputs": [],
   "source": [
    "import ipywidgets as widgets\n",
    "from IPython.display import display\n",
    "\n",
    "options = [\n",
    "    \"np.array([True, 1, 2, 3, 4, False])\",\n",
    "    \"np.array([4, 3, 0]) + np.array([0, 2, 2])\",\n",
    "    \"np.array([1, 1, 2]) + np.array([3, 4, -1])\",\n",
    "    \"np.array([0, 1, 2, 3, 4, 5])\"]\n",
    "\n",
    "radio_buttons = widgets.RadioButtons(\n",
    "    options=options,\n",
    "    description='Select an option:',\n",
    "    disabled=False\n",
    ")\n",
    "\n",
    "output = widgets.Output()\n",
    "\n",
    "def on_change(change):\n",
    "    with output:\n",
    "        print(f\"Selected option: {change['new']}\")\n",
    "\n",
    "radio_buttons.observe(on_change, names='value')\n",
    "\n",
    "display(radio_buttons)\n",
    "display(output)\n"
   ]
  },
  {
   "cell_type": "markdown",
   "metadata": {},
   "source": [
    "#### Subsetting NumPy Arrays\n",
    "\n",
    "You've seen it with your own eyes: Python lists and `numpy` arrays sometimes behave differently. Luckily, there are still certainties in this world. For example, subsetting (using the square bracket notation on lists or arrays) works exactly the same. To see this for yourself, try the following lines of code in the IPython Shell:\n",
    "\n",
    "`x = [\"a\", \"b\", \"c\"]`\n",
    "`x[1]`    \n",
    "`np_x = np.array(x)`   \n",
    "`np_x[1]`\n",
    "\n",
    "The script in the editor already contains code that imports numpy as np, and stores both the height and weight of the MLB players as numpy arrays. `height_in` and `weight_lb` are available as regular lists.\n",
    "\n",
    "#### Instructions\n",
    "\n",
    "- Subset `np_weight_lb` by printing out the element at index `50`.\n",
    "- Print out a sub-array of `np_height_in` that contains the elements at index `100` up to **and including** index `110`."
   ]
  },
  {
   "cell_type": "markdown",
   "metadata": {},
   "source": [
    "#### Step 4"
   ]
  },
  {
   "cell_type": "code",
   "execution_count": null,
   "metadata": {},
   "outputs": [],
   "source": [
    "# This is a continuation of step 1, step 2 and step 3 above\n",
    "\n",
    "# Store weight and height lists as NumPy arrays\n",
    "np_weight_lb = np.array(weight_lb)\n",
    "np_height_in = np.array(np_height_in)\n",
    "\n",
    "# Print out the weight at index 50\n",
    "print(np_weight_lb[50])\n",
    "\n",
    "# Print out sub-array of np_height_in: index 100 up to and including index 110\n",
    "print(np_height_in[100:111])\n"
   ]
  },
  {
   "cell_type": "markdown",
   "metadata": {},
   "source": [
    "### Type of NumPy Arrays"
   ]
  },
  {
   "cell_type": "code",
   "execution_count": null,
   "metadata": {},
   "outputs": [],
   "source": [
    "np_height = np.array([1.73, 1.68, 1.71, 1.89, 1.79])\n",
    "np_weight = np.array([65.4, 59.2, 63.6, 88.4, 68.7])\n",
    "\n",
    "print(type(np_height)) # numpy.ndarray\n",
    "print(type(np_weight)) # numpy.ndarray"
   ]
  },
  {
   "cell_type": "markdown",
   "metadata": {},
   "source": [
    "### 2 D Numpy Arrays"
   ]
  },
  {
   "cell_type": "code",
   "execution_count": 38,
   "metadata": {},
   "outputs": [
    {
     "name": "stdout",
     "output_type": "stream",
     "text": [
      "[[ 1.73  1.68  1.71  1.89  1.79]\n",
      " [65.4  59.2  63.6  88.4  68.7 ]]\n",
      "(2, 5)\n"
     ]
    }
   ],
   "source": [
    "np_2d = np.array([[1.73, 1.68, 1.71, 1.89, 1.79],\n",
    "[65.4, 59.2, 63.6, 88.4, 68.7]])\n",
    "\n",
    "print(np_2d)\n",
    "print(np_2d.shape)"
   ]
  },
  {
   "cell_type": "markdown",
   "metadata": {},
   "source": [
    "**NB**\n",
    "- 2D NumPy arrays can be created from Python's list of lists.\n",
    "- Each sublist in the list corresponds to a row in 2D array.\n",
    "- Attributes access does note use square brackets like methods.\n",
    "\n",
    "**Arrays allows only one type. If you mix integers with strings in one row, the entire array is converted into an array of lists**\n",
    "\n",
    "*Example:*\n",
    "\n",
    "`np.array([[1.73, 1.68, 1.71, 1.89, 1.79],`  \n",
    "          `[65.4, 59.2, 63.6, 88.4, \"68.7\"]])`\n",
    "\n",
    "*Returns*\n",
    "\n",
    "`array([['1.73', '1.68', '1.71', '1.89', '1.79'],`   \n",
    "      `['65.4', '59.2', '63.6', '88.4', '68.7']], dtype='<U32')`"
   ]
  },
  {
   "cell_type": "markdown",
   "metadata": {},
   "source": [
    "#### Subsetting \n"
   ]
  },
  {
   "cell_type": "code",
   "execution_count": null,
   "metadata": {},
   "outputs": [],
   "source": [
    "np_2d[0] # Selects entire 1st row"
   ]
  },
  {
   "cell_type": "code",
   "execution_count": null,
   "metadata": {},
   "outputs": [],
   "source": [
    "# This is also equal to np_2d[0, 2]\n",
    "np_2d[0][2]# Selects 1st row, 3rd element"
   ]
  },
  {
   "cell_type": "code",
   "execution_count": null,
   "metadata": {},
   "outputs": [],
   "source": [
    "np_2d[:, 1:3] # Selects all rows, 1st index to 3rd index, 3rd index not including "
   ]
  },
  {
   "cell_type": "code",
   "execution_count": null,
   "metadata": {},
   "outputs": [],
   "source": [
    "np_2d[1, :] # Selects 2nd row, all elements"
   ]
  },
  {
   "cell_type": "markdown",
   "metadata": {},
   "source": [
    "#### Your First 2D NumPy Array\n",
    "\n",
    "Before working on the actual MLB data, let's try to create a `2D numpy array` from a small `list of lists`.\n",
    "\n",
    "In this exercise, `baseball` is a list of lists. The main list contains `4` elements. Each of these elements is a `list` containing the `height` and the `weight` of 4 baseball players, in this order. `baseball` is already coded for you in the script.\n",
    "\n",
    "#### Instructions\n",
    "\n",
    "- Use `np.array()` to create a 2D numpy array from `baseball`. Name it `np_baseball`.\n",
    "- Print out the type of `np_baseball`.\n",
    "- Print out the `shape` attribute of `np_baseball`. Use `np_baseball.shape`."
   ]
  },
  {
   "cell_type": "code",
   "execution_count": null,
   "metadata": {},
   "outputs": [],
   "source": [
    "# Create baseball, a list of lists\n",
    "baseball = [[180, 78.4],\n",
    "            [215, 102.7],\n",
    "            [210, 98.5],\n",
    "            [188, 75.2]]\n",
    "\n",
    "# Import numpy\n",
    "import numpy as np\n",
    "\n",
    "# Create a 2D numpy array from baseball: np_baseball\n",
    "np_baseball = np.array(baseball)\n",
    "\n",
    "# Print out the type of np_baseball\n",
    "\n",
    "print(type(np_baseball))\n",
    "# Print out the shape of np_baseball\n",
    "print(np_baseball.shape)"
   ]
  },
  {
   "cell_type": "markdown",
   "metadata": {},
   "source": [
    "#### Baseball data in 2D form\n",
    "\n",
    "You have another look at the MLB data and realize that it makes more sense to restructure all this information in a `2D numpy array`. This array should have `1015` rows, corresponding to the `1015 baseball players` you have information on, and `2 columns (for height and weight)`.\n",
    "\n",
    "The MLB was, again, very helpful and passed you the data in a different structure, a Python list of lists. In this list of lists, each sublist represents the height and weight of a single baseball player. The name of this embedded list is `baseball`.\n",
    "\n",
    "Can you store the data as a 2D array to unlock `numpy's extra functionality?` baseball is available as a regular list of lists.\n",
    "\n",
    "#### Instructions\n",
    "\n",
    "- Use `np.array()` to create a `2D numpy` array from baseball. Name it `np_baseball`.\n",
    "- Print out the `shape` attribute of `np_baseball`."
   ]
  },
  {
   "cell_type": "code",
   "execution_count": 39,
   "metadata": {},
   "outputs": [
    {
     "name": "stdout",
     "output_type": "stream",
     "text": [
      "              Name Team       Position  Height  Weight    Age PosCategory\n",
      "0    Adam_Donachie  BAL        Catcher      74     180  22.99     Catcher\n",
      "1        Paul_Bako  BAL        Catcher      74     215  34.69     Catcher\n",
      "2  Ramon_Hernandez  BAL        Catcher      72     210  30.78     Catcher\n",
      "3     Kevin_Millar  BAL  First_Baseman      72     210  35.43   Infielder\n",
      "4      Chris_Gomez  BAL  First_Baseman      73     188  35.71   Infielder\n",
      "(1015, 2)\n"
     ]
    }
   ],
   "source": [
    "df = pd.read_csv(\"data/baseball.csv\")\n",
    "print(df.head())\n",
    "np_baseball = df[['Height', 'Weight']].to_numpy()\n",
    "print(np_baseball.shape)"
   ]
  },
  {
   "cell_type": "markdown",
   "metadata": {},
   "source": [
    "#### Subsetting 2D NumPy Arrays\n",
    "\n",
    "If your 2D numpy array has a regular structure, i.e. each row and column has a fixed number of values, complicated ways of subsetting become very easy. Have a look at the code below where the elements \"a\" and \"c\" are extracted from a list of lists.\n",
    "\n",
    "#### regular list of lists\n",
    "\n",
    "`x = [[\"a\", \"b\"], [\"c\", \"d\"]]`   \n",
    "`[x[0][0], x[1][0]]`\n",
    "\n",
    "#### numpy\n",
    "\n",
    "`import numpy as np`    \n",
    "`np_x = np.array(x)`  \n",
    "`np_x[:, 0]` \n",
    "\n",
    "\n",
    "For regular Python lists, this is a real pain. For 2D numpy arrays, however, it's pretty intuitive! The indexes before the `comma` refer to the `rows`, while those after the `comma` refer to the `columns`. The `:` is for `slicing`; in this example, it tells Python to include all rows.\n",
    "\n",
    "The code that converts the pre-loaded baseball list to a 2D numpy array is already in the script. The first column contains the players' height in inches and the second column holds player weight, in pounds. Add some lines to make the correct selections. Remember that in Python, the first element is at index 0! baseball is available as a regular list of lists.\n",
    "\n",
    "#### Instructions\n",
    "\n",
    "- Print out the `50th` row of `np_baseball`.\n",
    "- Make a new variable, `np_weight_lb`, containing the entire `second`` column of `np_baseball`.\n",
    "- Select the `height (first column)` of the `124th` baseball player in `np_baseball` and print it out.\n",
    "\n"
   ]
  },
  {
   "cell_type": "code",
   "execution_count": 40,
   "metadata": {},
   "outputs": [
    {
     "name": "stdout",
     "output_type": "stream",
     "text": [
      "[ 70 195]\n",
      "75\n"
     ]
    }
   ],
   "source": [
    "# Print out the 50th row of np_baseball\n",
    "print(np_baseball[49, :])\n",
    "\n",
    "# Select the entire second column of np_baseball: np_weight_lb\n",
    "np_weight_lb = np_baseball[:, 1]\n",
    "\n",
    "# Print out height of 124th player\n",
    "print(np_baseball[123, 0])"
   ]
  },
  {
   "cell_type": "markdown",
   "metadata": {},
   "source": [
    "#### 2D Arithmetic\n",
    "\n",
    "Remember how you calculated the `Body Mass Index` for all baseball players? numpy was able to perform all calculations `element-wise` (i.e. element by element). For 2D numpy arrays this isn't any different! You can combine matrices with single numbers, with vectors, and with other matrices.\n",
    "\n",
    "Execute the code below and see if you understand:"
   ]
  },
  {
   "cell_type": "code",
   "execution_count": 42,
   "metadata": {},
   "outputs": [
    {
     "name": "stdout",
     "output_type": "stream",
     "text": [
      "[[ 20  40]\n",
      " [ 60  80]\n",
      " [100 120]]\n",
      "[[11 12]\n",
      " [13 14]\n",
      " [15 16]]\n",
      "[[ 2  4]\n",
      " [ 6  8]\n",
      " [10 12]]\n"
     ]
    }
   ],
   "source": [
    "import numpy as np\n",
    "np_mat = np.array([[1, 2],\n",
    "                   [3, 4],\n",
    "                   [5, 6]])\n",
    "print(np_mat * 20)\n",
    "print(np_mat + np.array([10, 10]))\n",
    "print(np_mat + np_mat)"
   ]
  },
  {
   "cell_type": "markdown",
   "metadata": {},
   "source": [
    "\n",
    "`np_baseball` is coded for you; it's again a 2D numpy array with `3 columns` representing `height` (in inches), `weight` (in pounds) and `age` (in years). baseball is available as a regular list of lists and updated is available as 2D numpy array.\n",
    "\n",
    "#### Instructions\n",
    "\n",
    "- You managed to get hold of the changes in `height`, `weight`and `age` of all baseball players. It is available as a 2D numpy array, updated. - Add `np_baseball` and `updated` and print out the result.\n",
    "- You want to convert the units of `height` and `weight` to metric `(meters and kilograms, respectively)`. As a first step, create a numpy array with three values: `0.0254`, `0.453592` and `1`. Name this array `conversion`.\n",
    "- Multiply `np_baseball` with `conversion` and print out the result."
   ]
  },
  {
   "cell_type": "code",
   "execution_count": 69,
   "metadata": {},
   "outputs": [
    {
     "name": "stdout",
     "output_type": "stream",
     "text": [
      "[[ 75.2303559  168.83775102  23.99      ]\n",
      " [ 75.02614252 231.09732309  35.69      ]\n",
      " [ 73.1544228  215.08167641  31.78      ]\n",
      " ...\n",
      " [ 76.09349925 209.23890778  26.19      ]\n",
      " [ 75.82285669 172.21799965  32.01      ]\n",
      " [ 73.99484223 203.14402711  28.92      ]]\n",
      "[[ 1.8796  81.64656 22.99   ]\n",
      " [ 1.8796  97.52228 34.69   ]\n",
      " [ 1.8288  95.25432 30.78   ]\n",
      " ...\n",
      " [ 1.905   92.98636 25.19   ]\n",
      " [ 1.905   86.18248 31.01   ]\n",
      " [ 1.8542  88.45044 27.92   ]]\n"
     ]
    }
   ],
   "source": [
    "# edited/added\n",
    "baseball = df[['Height', 'Weight', 'Age']]\n",
    "n = len(baseball)\n",
    "updated = np.array(pd.read_csv('data/update.csv', header = None))\n",
    "\n",
    "# baseball is available as a regular list of lists\n",
    "# updated is available as 2D numpy array\n",
    "\n",
    "# Create np_baseball (3 cols)\n",
    "np_baseball = np.array(baseball)\n",
    "\n",
    "# Print out addition of np_baseball and updated\n",
    "print(np_baseball + updated)\n",
    "\n",
    "# Create numpy array: conversion\n",
    "conversion = np.array([0.0254, 0.453592, 1])\n",
    "\n",
    "# Print out product of np_baseball and conversion\n",
    "print(np_baseball * conversion)"
   ]
  },
  {
   "cell_type": "code",
   "execution_count": null,
   "metadata": {},
   "outputs": [],
   "source": []
  },
  {
   "cell_type": "code",
   "execution_count": null,
   "metadata": {},
   "outputs": [],
   "source": []
  }
 ],
 "metadata": {
  "kernelspec": {
   "display_name": "Python 3 (ipykernel)",
   "language": "python",
   "name": "python3"
  },
  "language_info": {
   "codemirror_mode": {
    "name": "ipython",
    "version": 3
   },
   "file_extension": ".py",
   "mimetype": "text/x-python",
   "name": "python",
   "nbconvert_exporter": "python",
   "pygments_lexer": "ipython3",
   "version": "3.11.5"
  }
 },
 "nbformat": 4,
 "nbformat_minor": 4
}
