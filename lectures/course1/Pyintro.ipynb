{
 "cells": [
  {
   "cell_type": "markdown",
   "metadata": {},
   "source": [
    "# Introduction to Python\n",
    "\n",
    "## Course Description\n",
    "\n",
    "Python is a general-purpose programming language that is becoming ever more popular for data science. Companies worldwide are using Python to harvest insights from their data and gain a competitive edge. Unlike other Python tutorials, this course focuses on Python specifically for data science. In our Introduction to Python course, you’ll learn about powerful ways to store and manipulate data, and helpful data science tools to begin conducting your own analyses. Start DataCamp’s online Python curriculum now.\n",
    "\n",
    "## 1. Chapter 1 - Python Basics\n",
    "\n",
    "An introduction to the basic concepts of Python. Learn how to use Python interactively and by using a script. Create your first variables and acquaint yourself with Python's basic data types.\n",
    "\n",
    "- Guido Van Rossum\n",
    "- General Purpose: build anything\n",
    "- Open Source! Free!\n",
    "- Python Packages, also for Data Science\n",
    "- Many applications and fields"
   ]
  },
  {
   "cell_type": "markdown",
   "metadata": {},
   "source": [
    "### Python Script\n",
    "- Text Files - .py\n",
    "- List of Python Commands\n",
    "- Similar to typing in IPython Shell\n",
    "\n",
    "Python is a pretty versatile language. For which applications can you use Python?\n",
    "\n",
    "- You want to do some quick calculations.\n",
    "- For your new business, you want to develop a database-driven website.\n",
    "- Your boss asks you to clean and analyze the results of the latest satisfaction survey.\n",
    "- You can all of the above tasks using Python.\n",
    "\n",
    "### Comments :\n",
    "You can add comments to your Python scripts. Comments are important to make\n",
    "sure that you and others can understand what your code is about.\n",
    "To add comments to your Python script, you can use the `# tag`. These comments\n",
    "are not run as Python code, so they will not influence your result."
   ]
  },
  {
   "cell_type": "code",
   "execution_count": 10,
   "metadata": {},
   "outputs": [
    {
     "name": "stdout",
     "output_type": "stream",
     "text": [
      "0.625\n",
      "17\n"
     ]
    }
   ],
   "source": [
    "# Example, do not modify!\n",
    "print(5 / 8)\n",
    "\n",
    "# Print the sum of 7 and 10\n",
    "print(7 + 10)"
   ]
  },
  {
   "cell_type": "markdown",
   "metadata": {},
   "source": [
    "### Python as a calculator\n",
    "Python is perfectly suited to do basic calculations. It can do addition, subtraction, multiplication and division.\n",
    "The code in the script gives some examples.\n",
    "Now it's your turn to practice!\n",
    "\n",
    "#### Instructions\n",
    "\n",
    "- Print the sum of 4 + 5.\n",
    "- Print the result of subtracting 5 from 5.\n",
    "- Print the result of multiplying 3 by 5.\n",
    "- Print the result of dividing 10 by 2"
   ]
  },
  {
   "cell_type": "code",
   "execution_count": 11,
   "metadata": {},
   "outputs": [
    {
     "name": "stdout",
     "output_type": "stream",
     "text": [
      "10\n",
      "0\n",
      "15\n",
      "5.0\n",
      "4\n",
      "16\n",
      "194.87171000000012\n"
     ]
    }
   ],
   "source": [
    "# Addition, subtraction\n",
    "print(5 + 5)\n",
    "print(5 - 5)\n",
    "\n",
    "# Multiplication, division, modulo, and exponentiation\n",
    "print(3 * 5)\n",
    "print(10 / 2)\n",
    "print(18 % 7)\n",
    "print(4 ** 2)\n",
    "\n",
    "# How much is your $100 worth after 7 years?\n",
    "print(100 * 1.1 ** 7)"
   ]
  },
  {
   "cell_type": "markdown",
   "metadata": {},
   "source": [
    "### Variables and Types\n",
    "\n",
    "#### Variables\n",
    "- Specific, case-sensitive \n",
    "- nameCall up value through variable name\n",
    "- 1.79 m - 68.7 kg"
   ]
  },
  {
   "cell_type": "markdown",
   "metadata": {},
   "source": [
    "#### Calculate BMI\n",
    "\n",
    "\n",
    "The BMI formula is:  $BMI = \\frac{weight}{height^2}$\n"
   ]
  },
  {
   "cell_type": "code",
   "execution_count": 12,
   "metadata": {},
   "outputs": [
    {
     "name": "stdout",
     "output_type": "stream",
     "text": [
      "21.44127836209856\n"
     ]
    }
   ],
   "source": [
    "# Example\n",
    "\n",
    "height = 1.79 \n",
    "weight = 68.7  \n",
    "# print(height) \n",
    "# print(weight)\n",
    "\n",
    "bmi = weight / height ** 2\n",
    "print(bmi)"
   ]
  },
  {
   "cell_type": "code",
   "execution_count": 13,
   "metadata": {},
   "outputs": [
    {
     "name": "stdout",
     "output_type": "stream",
     "text": [
      "<class 'float'>\n",
      "<class 'int'>\n",
      "<class 'str'>\n",
      "<class 'str'>\n",
      "<class 'bool'>\n",
      "5\n",
      "abcd\n"
     ]
    }
   ],
   "source": [
    "# Python Types\n",
    "\n",
    "# types(1)\n",
    "\n",
    "print(type(bmi)) \n",
    "\n",
    "day_of_week = 5 \n",
    "print(type(day_of_week)) \n",
    "\n",
    "# Types (2)\n",
    "x = \"body mass index\" \n",
    "y = 'this works too'  \n",
    "print(type(x)) \n",
    "print(type(y))\n",
    "\n",
    "z = True \n",
    "print(type(z)) \n",
    "\n",
    "# Types (3) - NB:  Different type = different behavior!\n",
    "print(2 + 3 )\n",
    "print('ab' + 'cd') \n",
    "\n",
    "# Different type = different behavior!"
   ]
  },
  {
   "cell_type": "markdown",
   "metadata": {},
   "source": [
    "### Variable Assignment\n",
    "\n",
    "#### Instructions\n",
    "\n",
    "- Create a variable savings with the value of 100.\n",
    "- Check out this variable by typing print(savings) in the script.\n"
   ]
  },
  {
   "cell_type": "code",
   "execution_count": 14,
   "metadata": {},
   "outputs": [
    {
     "name": "stdout",
     "output_type": "stream",
     "text": [
      "100\n"
     ]
    }
   ],
   "source": [
    "# Create a variable savings\n",
    "savings = 100\n",
    "\n",
    "# Print out savings\n",
    "print(savings)"
   ]
  },
  {
   "cell_type": "markdown",
   "metadata": {},
   "source": [
    "### Calculations with variables\n",
    "\n",
    "You've now created a savings variable, so let's start saving!\n",
    "\n",
    "Instead of calculating with the actual values, you can use variables instead. The savings variable you created in the previous exercise with a value of 100 is available to you.\n",
    "\n",
    "How much money would you have saved four months from now, if you saved $10 each month?\n",
    "\n",
    "#### Instructions\n",
    "\n",
    "- Create a variable monthly_savings, equal to 10 and num_months, equal to 4.\n",
    "- Multiply monthly_savings by num_months and save it to new_savings.\n",
    "- Add new_savings to savings, saving the sum as total_savings.\n",
    "- Print the value of total_savings"
   ]
  },
  {
   "cell_type": "code",
   "execution_count": 15,
   "metadata": {},
   "outputs": [
    {
     "name": "stdout",
     "output_type": "stream",
     "text": [
      "194.87171000000012\n"
     ]
    }
   ],
   "source": [
    "# Create a variable savings\n",
    "savings = 100\n",
    "\n",
    "# Create a variable growth_multiplier\n",
    "growth_multiplier = 1.1\n",
    "\n",
    "# Calculate result\n",
    "result = savings * growth_multiplier ** 7\n",
    "\n",
    "# Print out result\n",
    "print(result)"
   ]
  },
  {
   "cell_type": "markdown",
   "metadata": {},
   "source": [
    "You've now created a savings variable, so let's start saving!\n",
    "\n",
    "Instead of calculating with the actual values, you can use variables instead. The savings variable you created in the previous exercise with a value of 100 is available to you.\n",
    "\n",
    "How much money would you have saved four months from now, if you saved $10 each month?\n",
    "\n",
    "#### Instructions\n",
    "\n",
    "- Create a variable monthly_savings, equal to 10 and num_months, equal to 4.\n",
    "- Multiply monthly_savings by num_months and save it to new_savings.\n",
    "- Add new_savings to savings, saving the sum as total_savings.\n",
    "- Print the value of total_savings."
   ]
  },
  {
   "cell_type": "code",
   "execution_count": 16,
   "metadata": {},
   "outputs": [
    {
     "name": "stdout",
     "output_type": "stream",
     "text": [
      "194.87171000000012\n",
      "140\n"
     ]
    }
   ],
   "source": [
    "# Create a variable savings\n",
    "savings = 100\n",
    "\n",
    "# Create a variable growth_multiplier\n",
    "growth_multiplier = 1.1\n",
    "\n",
    "# Calculate result\n",
    "result = savings * growth_multiplier ** 7\n",
    "\n",
    "# Print out result\n",
    "print(result)\n",
    "\n",
    "monthly_savings = 10\n",
    "num_months = 4 \n",
    "new_savings = monthly_savings * num_months\n",
    "total_savings = new_savings + savings\n",
    "print(total_savings)"
   ]
  },
  {
   "cell_type": "markdown",
   "metadata": {},
   "source": [
    "### Other variable types\n",
    "In the previous exercise, you worked with the integer Python data type:\n",
    "\n",
    "- *`int, or integer:`* a number without a fractional part. savings, with the value 100, is an example of an integer.\n",
    "\n",
    "Next to numerical data types, there are three other very common data types:\n",
    "\n",
    "- *`float, or floating point:`* a number that has both an integer and fractional part, separated by a point. 1.1, is an example of a float.\n",
    "- *`str, or string:`* a type to represent text. You can use single or double quotes to build a string.\n",
    "- *`bool, or boolean:`* a type to represent logical values. It can only be True or False (the capitalization is important!).\n",
    "\n",
    "\n",
    "#### Instructions\n",
    "\n",
    "- Create a new float, `half`, with the value `0.5`.\n",
    "- Create a new string, `intro`, with the value `\"Hello! How are you?\"`.\n",
    "- Create a new boolean, `is_good`, with the value `True`."
   ]
  },
  {
   "cell_type": "code",
   "execution_count": 17,
   "metadata": {},
   "outputs": [],
   "source": [
    "# Create a variable desc\n",
    "desc = \"compound interest\"\n",
    "\n",
    "# Create a variable profitable\n",
    "profitable = True\n",
    "half = 0.5\n",
    "intro = \"Hello! How are you?\"\n",
    "is_good = True"
   ]
  },
  {
   "cell_type": "markdown",
   "metadata": {},
   "source": [
    "#### Operations with other types\n",
    "\n",
    "When you sum two strings, for example, you'll get different behavior than when you sum two integers or two booleans.\n",
    "\n",
    "In the script some variables with different types have already been created. It's up to you to use them.\n",
    "\n",
    "#### Instructions\n",
    "\n",
    "- Calculate the product of monthly_savings and num_months. Store the result in year_savings.\n",
    "- What do you think the resulting type will be? Find out by printing out the type of year_savings.\n",
    "- Calculate the sum of intro and intro and store the result in a new variable doubleintro.\n",
    "- Print out doubleintro. Did you expect this?"
   ]
  },
  {
   "cell_type": "code",
   "execution_count": 18,
   "metadata": {},
   "outputs": [
    {
     "name": "stdout",
     "output_type": "stream",
     "text": [
      "<class 'float'>\n",
      "compound interestcompound interest\n",
      "<class 'int'>\n",
      "Hello! How are you?Hello! How are you?\n"
     ]
    }
   ],
   "source": [
    "savings = 100\n",
    "growth_multiplier = 1.1\n",
    "desc = \"compound interest\"\n",
    "\n",
    "# Assign product of savings and growth_multiplier to year1\n",
    "year1 = savings * growth_multiplier\n",
    "\n",
    "# Print the type of year1\n",
    "print(type(year1))\n",
    "\n",
    "# Assign sum of desc and desc to doubledesc\n",
    "doubledesc =  desc + desc\n",
    "\n",
    "# Print out doubledesc\n",
    "print(doubledesc)\n",
    "\n",
    "monthly_savings = 10\n",
    "num_months = 12\n",
    "intro = \"Hello! How are you?\"\n",
    "\n",
    "year_savings = monthly_savings * num_months\n",
    "print(type(year_savings))\n",
    "\n",
    "doubleintro = intro + intro\n",
    "print(doubleintro)"
   ]
  },
  {
   "cell_type": "markdown",
   "metadata": {},
   "source": [
    "### Type conversion\n",
    "Using the `+` operator to paste together two strings can be very useful in building custom messages.\n",
    "\n",
    "Suppose, for example, that you've calculated your savings want to summarize the results in a string.\n",
    "\n",
    "To do this, you'll need to explicitly convert the types of your variables. More specifically, you'll need `str()`, to convert a value into a string. `str(savings)`, for example, will convert the integer savings to a string.\n",
    "\n",
    "Similar functions such as `int()`, `float()` and `bool()` will help you convert Python values into any type.\n",
    "\n",
    "- Fix the code such that the printout runs without errors; use the function `str()` to convert the variables `savings` and `total_savings` to strings.\n",
    "- Convert the variable `pi_string` to a float and store this float as a new variable, `pi_float`."
   ]
  },
  {
   "cell_type": "code",
   "execution_count": 19,
   "metadata": {},
   "outputs": [
    {
     "name": "stdout",
     "output_type": "stream",
     "text": [
      "I started with $100 and now have $150. Awesome!\n"
     ]
    }
   ],
   "source": [
    "# Definition of savings and result\n",
    "savings = 100\n",
    "total_savings = 150\n",
    "\n",
    "# Fix the printout\n",
    "print(\"I started with $\" + str(savings) + \" and now have $\" + str(total_savings) + \". Awesome!\")\n",
    "\n",
    "# Definition of pi_string\n",
    "pi_string = \"3.1415926\"\n",
    "\n",
    "# Convert pi_string into float: pi_float\n",
    "pi_float = float(pi_string)"
   ]
  },
  {
   "cell_type": "markdown",
   "metadata": {},
   "source": [
    "# Chapter 2 - Python Lists\n",
    "\n",
    "Learn to store, access, and manipulate data in lists: the first step toward efficiently working with huge amounts of data.\n",
    "\n",
    "### Python Data Types\n",
    "\n",
    "- float - real numbers\n",
    "- int - integer numbers\n",
    "- str - string, text\n",
    "- bool - True, False\n",
    "\n",
    "Each variable represents single value\n",
    "\n"
   ]
  },
  {
   "cell_type": "markdown",
   "metadata": {},
   "source": [
    "### Create a list\n",
    "As opposed to int, bool etc., a list is a compound data type; you can group values together:\n",
    "\n",
    "`a = \"is\"`  \n",
    "`b = \"nice\" `   \n",
    "`my_list = [\"my\", \"list\", a, b]`\n",
    "\n",
    "After measuring the height of your family, you decide to collect some information on the house you're living in. The areas of the different parts of your house are stored in separate variables for now, as shown in the script.\n",
    "\n",
    "#### Instructions\n",
    "\n",
    "- Create a list, areas, that contains the area of the hallway (hall), kitchen (kit), living room (liv), bedroom (bed) and bathroom (bath), in this order. Use the predefined variables.\n",
    "- Print areas with the print() function."
   ]
  },
  {
   "cell_type": "code",
   "execution_count": 20,
   "metadata": {},
   "outputs": [
    {
     "name": "stdout",
     "output_type": "stream",
     "text": [
      "[11.25, 18.0, 20.0, 10.75, 9.5]\n"
     ]
    }
   ],
   "source": [
    "# area variables (in square meters)\n",
    "hall = 11.25\n",
    "kit = 18.0\n",
    "liv = 20.0\n",
    "bed = 10.75\n",
    "bath = 9.50\n",
    "\n",
    "# Create list areas\n",
    "areas = [hall, kit, liv, bed, bath]\n",
    "\n",
    "# Print areas\n",
    "print(areas)\n"
   ]
  },
  {
   "cell_type": "markdown",
   "metadata": {},
   "source": [
    "### Create list with different types\n",
    "\n",
    "A list can contain any Python type. Although it's not really common, a list can also contain a mix of Python types including `strings`, `floats`, `booleans`, etc.\n",
    "\n",
    "The `printout` of the previous exercise wasn't really satisfying. It's just a list of numbers representing the areas, but you can't tell which area corresponds to which part of your house.\n",
    "\n",
    "The code in the editor is the start of a solution. For some of the areas, the name of the corresponding room is already placed in front. Pay attention here! `\"bathroom\"` is a string, while `bath` is a variable that represents the float 9.50 you specified earlier.\n",
    "\n",
    "#### Instructions\n",
    "\n",
    "- Finish the code that creates the areas list. Build the list so that the list first contains the name of each room as a string and then its area. In other words, add the strings `\"hallway\"`, `\"kitchen\"` and `\"bedroom\"` at the appropriate locations.\n",
    "- Print `areas` again; is the printout more informative this time?"
   ]
  },
  {
   "cell_type": "code",
   "execution_count": 21,
   "metadata": {},
   "outputs": [
    {
     "name": "stdout",
     "output_type": "stream",
     "text": [
      "['hallway', 11.25, 'kitchen', 18.0, 'living room', 20.0, 'bedroom', 10.75, 'bathroom', 9.5]\n"
     ]
    }
   ],
   "source": [
    "# area variables (in square meters)\n",
    "hall = 11.25\n",
    "kit = 18.0\n",
    "liv = 20.0\n",
    "bed = 10.75\n",
    "bath = 9.50\n",
    "\n",
    "# Adapt list areas\n",
    "areas = [\"hallway\", hall, \"kitchen\", kit, \"living room\", liv, \"bedroom\", bed, \"bathroom\", bath]\n",
    "\n",
    "# Print areas\n",
    "print(areas)"
   ]
  },
  {
   "cell_type": "markdown",
   "metadata": {},
   "source": [
    "### List of lists\n",
    "\n",
    "As a data scientist, you'll often be dealing with a lot of data, and it will make sense to group some of this data.\n",
    "\n",
    "Instead of creating a flat list containing strings and floats, representing the names and areas of the rooms in your house, you can create a list of lists. The script in the editor can already give you an idea.\n",
    "\n",
    "Don't get confused here: `\"hallway\"` is a string, while `hall` is a variable that represents the float `11.25` you specified earlier.\n",
    "\n",
    "#### Instructions\n",
    "\n",
    "- Finish the list of lists so that it also contains the bedroom and bathroom data. Make sure you enter these in order!\n",
    "- Print out `house`; does this way of structuring your data make more sense?\n",
    "- Print out the type of `house`. Are you still dealing with a list"
   ]
  },
  {
   "cell_type": "code",
   "execution_count": 22,
   "metadata": {},
   "outputs": [
    {
     "name": "stdout",
     "output_type": "stream",
     "text": [
      "[['hallway', 11.25], ['kitchen', 18.0], ['living room', 20.0], ['bedroom', 10.75], ['bathroom', 9.5]]\n",
      "<class 'list'>\n"
     ]
    }
   ],
   "source": [
    "# area variables (in square meters)\n",
    "hall = 11.25\n",
    "kit = 18.0\n",
    "liv = 20.0\n",
    "bed = 10.75\n",
    "bath = 9.50\n",
    "\n",
    "# house information as list of lists\n",
    "house = [[\"hallway\", hall],\n",
    "         [\"kitchen\", kit],\n",
    "         [\"living room\", liv],\n",
    "         [\"bedroom\", bed],\n",
    "         [\"bathroom\", bath]]\n",
    "\n",
    "# Print out house\n",
    "print(house)\n",
    "\n",
    "# Print out the type of house\n",
    "print(type(house))"
   ]
  },
  {
   "cell_type": "markdown",
   "metadata": {},
   "source": [
    "### Subsetting lists\n",
    "\n",
    "**Subsetting lists:** This is accessing elements of a list\n",
    "\n",
    "- Python uses indexes(0, 1, 2, ..., n).\n",
    "- We use sapuare brackets.\n",
    "- Lists are zero-indexed i.e starts with zero.\n",
    "- Negative indexing - access elements from the end of a list.\n",
    "\n",
    "\n",
    "`fam = [\"liz\", 1.73, \"emma\", 1.68, \"mom\", 1.71, \"dad\", 1.89]`\n",
    "\n",
    "`fam['liz', 1.73, 'emma', 1.68, 'mom', 1.71, 'dad', 1.89]`   \n",
    "\n",
    "`fam[3]        #1.68`\n",
    "\n",
    "`fam[6]        #'dad'`   \n",
    "\n",
    "`fam[-1]       #1.89`   \n",
    "\n",
    "`fam[7]        #1.89`\n",
    "\n"
   ]
  },
  {
   "cell_type": "markdown",
   "metadata": {},
   "source": [
    "### List slicing \n",
    "\n",
    "**List slicing:** Selecting multiple elements from a list, thus creating a new list.\n",
    "\n",
    "- Specify a range. E.x `fam[3:5]`. \n",
    "- Syntax - `[Start(Inclusive) : End(Exlusive)]`.\n",
    "- `fam[:4]` - Start from zero(0) upto `3`.\n",
    "- `fam[4:]` - List all elements from index `4` upto and including the last element.\n",
    "\n",
    "\n",
    "`fam['liz', 1.73, 'emma', 1.68, 'mom', 1.71, 'dad', 1.89]`   \n",
    "\n",
    "`fam[3:5]    #[1.68, 'mom']`  \n",
    "\n",
    "`fam[1:4]    #[1.73, 'emma', 1.68]`\n",
    "\n",
    "`fam[:4]    #['liz', 1.73, 'emma', 1.68]`  \n",
    "\n",
    "`fam[5:]    #[1.71, 'dad', 1.89]`\n",
    "\n"
   ]
  },
  {
   "cell_type": "markdown",
   "metadata": {},
   "source": [
    "### Subset and conquer\n",
    "\n",
    "Subsetting Python lists is a piece of cake. Take the code sample below, which creates a list `x` and then selects `\"b\"` from it. Remember that this is the second element, so it has index `1`. You can also use negative indexing.\n",
    "\n",
    "`x = [\"a\", \"b\", \"c\", \"d\"]`  \n",
    "\n",
    "`x[1]`  \n",
    "\n",
    "`x[-3] # same result!`   \n",
    "\n",
    "Remember the areas list from before, containing both strings and floats? Its definition is already in the script. Can you add the correct code to do some Python subsetting?\n",
    "\n",
    "#### Instructions\n",
    "\n",
    "- Print out the second element from the `areas` list (it has the value `11.25`).\n",
    "- Subset and print out the last element of `areas`, being `9.50`. Using a negative index makes sense here!\n",
    "- Select the number representing the area of the living room `(20.0)` and print it out."
   ]
  },
  {
   "cell_type": "code",
   "execution_count": 23,
   "metadata": {},
   "outputs": [
    {
     "name": "stdout",
     "output_type": "stream",
     "text": [
      "11.25\n",
      "9.5\n",
      "20.0\n"
     ]
    }
   ],
   "source": [
    "# Create the areas list\n",
    "areas = [\"hallway\", 11.25, \"kitchen\", 18.0, \"living room\", 20.0, \"bedroom\", 10.75, \"bathroom\", 9.50]\n",
    "\n",
    "# Print out second element from areas\n",
    "print(areas[1])\n",
    "\n",
    "# Print out last element from areas\n",
    "print(areas[-1])\n",
    "\n",
    "# Print out the area of the living room\n",
    "print(areas[5])"
   ]
  },
  {
   "cell_type": "markdown",
   "metadata": {},
   "source": [
    "### Subset and calculate\n",
    "After you've extracted values from a list, you can use them to perform additional calculations. Take this example, where the second and fourth element of a list x are extracted. The strings that result are pasted together using the + operator:\n",
    "\n",
    "`x = [\"a\", \"b\", \"c\", \"d\"]`  \n",
    "\n",
    "`print(x[1] + x[3])`  \n",
    "\n",
    "#### Instructions\n",
    "\n",
    "- Using a combination of list subsetting and variable assignment, create a new variable, `eat_sleep_area`, that contains the sum of the area of the kitchen and the area of the bedroom.\n",
    "- Print the new variable `eat_sleep_area`."
   ]
  },
  {
   "cell_type": "code",
   "execution_count": 24,
   "metadata": {},
   "outputs": [
    {
     "name": "stdout",
     "output_type": "stream",
     "text": [
      "28.75\n"
     ]
    }
   ],
   "source": [
    "# Create the areas list\n",
    "areas = [\"hallway\", 11.25, \"kitchen\", 18.0, \"living room\", 20.0, \"bedroom\", 10.75, \"bathroom\", 9.50]\n",
    "\n",
    "# Sum of kitchen and bedroom area: eat_sleep_area\n",
    "eat_sleep_area = areas[3] + areas[7]\n",
    "\n",
    "# Print the variable eat_sleep_area\n",
    "print(eat_sleep_area)"
   ]
  },
  {
   "cell_type": "markdown",
   "metadata": {},
   "source": [
    "### Slicing and dicing\n",
    "\n",
    "Selecting single values from a list is just one part of the story. It's also possible to slice your list, which means selecting multiple elements from your list. Use the following syntax:\n",
    "\n",
    "`my_list[start:end]` - The start index will be included, while the end index is not.\n",
    "\n",
    "The code sample below shows an example. A list with `\"b\"` and `\"c\"`, corresponding to indexes `1` and `2`, are selected from a list `x`:\n",
    "\n",
    "`x = [\"a\", \"b\", \"c\", \"d\"]`  \n",
    "\n",
    "`x[1:3]` - The elements with index `1` and `2` are included, while the element with index `3` is not.\n",
    "\n",
    "#### Instructions\n",
    "\n",
    "- Use slicing to create a list, `downstairs`, that contains the first `6` elements of areas.\n",
    "- Do a similar thing to create a new variable, `upstairs`, that contains the last `4` elements of areas.\n",
    "- Print both downstairs and upstairs using `print()`."
   ]
  },
  {
   "cell_type": "code",
   "execution_count": 25,
   "metadata": {},
   "outputs": [
    {
     "name": "stdout",
     "output_type": "stream",
     "text": [
      "['hallway', 11.25, 'kitchen', 18.0, 'living room', 20.0]\n",
      "['bedroom', 10.75, 'bathroom', 9.5]\n"
     ]
    }
   ],
   "source": [
    "# Create the areas list\n",
    "areas = [\"hallway\", 11.25, \"kitchen\", 18.0, \"living room\", 20.0, \"bedroom\", 10.75, \"bathroom\", 9.50]\n",
    "\n",
    "# Use slicing to create downstairs\n",
    "downstairs = areas[:6]\n",
    "\n",
    "# Use slicing to create upstairs\n",
    "upstairs = areas[6:]\n",
    "\n",
    "# Print out downstairs and upstairs\n",
    "print(downstairs)\n",
    "print(upstairs)"
   ]
  },
  {
   "cell_type": "markdown",
   "metadata": {},
   "source": [
    "### Slicing and dicing (2)\n",
    "In the video, Hugo first discussed the syntax where you specify both where to begin and end the slice of your list:\n",
    "\n",
    "`my_list[begin:end]`\n",
    "\n",
    "However, it's also possible not to specify these indexes. If you don't specify the begin index, Python figures out that you want to start your slice at the beginning of your list. If you don't specify the end index, the slice will go all the way to the last element of your list. To experiment with this, try the following commands in the IPython Shell:\n",
    "\n",
    "`x = [\"a\", \"b\", \"c\", \"d\"]`  \n",
    "\n",
    "`x[:2]`  \n",
    "\n",
    "`x[2:]`  \n",
    "\n",
    "`x[:]`\n",
    "\n",
    "#### Instructions\n",
    "\n",
    "- Create `downstairs` again, as the first `6` elements of areas. This time, simplify the slicing by omitting the `begin` index.\n",
    "- Create `upstairs` again, as the last `4` elements of areas. This time, simplify the slicing by omitting the `end `index."
   ]
  },
  {
   "cell_type": "code",
   "execution_count": 26,
   "metadata": {},
   "outputs": [],
   "source": [
    "# Create the areas list\n",
    "areas = [\"hallway\", 11.25, \"kitchen\", 18.0, \"living room\", 20.0, \"bedroom\", 10.75, \"bathroom\", 9.50]\n",
    "\n",
    "# Alternative slicing to create downstairs\n",
    "downstairs = areas[:6]\n",
    "\n",
    "# Alternative slicing to create upstairs\n",
    "upstairs = areas[6:]"
   ]
  },
  {
   "cell_type": "markdown",
   "metadata": {},
   "source": [
    "### Subsetting lists of lists\n",
    "\n",
    "You saw before that a Python list can contain practically anything; even other lists! To subset lists of lists, you can use the same technique as before: square brackets. Try out the commands in the following code sample in the IPython Shell:\n",
    "\n",
    "`x = [[\"a\", \"b\", \"c\"],`  \n",
    "\n",
    "     `[\"d\", \"e\", \"f\"],`  \n",
    "\n",
    "     `[\"g\", \"h\", \"i\"]]`  \n",
    "\n",
    "`x[2][0]`  \n",
    "\n",
    "`x[2][:2]`\n",
    "\n",
    "`x[2]` results in a list, that you can subset again by adding additional square brackets.\n",
    "\n",
    "What will `house[-1][1]` return? house, the list of lists that you created before, is already defined for you in the workspace. You can experiment with it in the IPython Shell."
   ]
  },
  {
   "cell_type": "code",
   "execution_count": 27,
   "metadata": {},
   "outputs": [
    {
     "data": {
      "text/plain": [
       "9.5"
      ]
     },
     "execution_count": 27,
     "metadata": {},
     "output_type": "execute_result"
    }
   ],
   "source": [
    "house[-1][1]"
   ]
  },
  {
   "cell_type": "markdown",
   "metadata": {},
   "source": [
    "### Manipulating Lists\n",
    "\n",
    "- Change list elements\n"
   ]
  },
  {
   "cell_type": "code",
   "execution_count": 4,
   "metadata": {},
   "outputs": [
    {
     "name": "stdout",
     "output_type": "stream",
     "text": [
      "['liz', 1.73, 'emma', 1.68, 'mom', 1.71, 'dad', 1.89]\n",
      "['liz', 1.73, 'emma', 1.68, 'mom', 1.71, 'dad', 1.86]\n",
      "['lisa', 1.74, 'emma', 1.68, 'mom', 1.71, 'dad', 1.86]\n"
     ]
    }
   ],
   "source": [
    "fam = [\"liz\", 1.73, \"emma\", 1.68, \"mom\", 1.71, \"dad\", 1.89]\n",
    "print(fam)\n",
    "\n",
    "fam[7] = 1.86\n",
    "print(fam)\n",
    "\n",
    "fam[0:2] = [\"lisa\", 1.74]\n",
    "print(fam)\n",
    "\n",
    "\n"
   ]
  },
  {
   "cell_type": "markdown",
   "metadata": {},
   "source": [
    "- Adding and Removing list elements"
   ]
  },
  {
   "cell_type": "code",
   "execution_count": 11,
   "metadata": {},
   "outputs": [
    {
     "name": "stdout",
     "output_type": "stream",
     "text": [
      "['lisa', 1.74, 'mom', 1.71, 'dad', 1.86, 'me', 1.79]\n",
      "['lisa', 1.74, 1.71, 'dad', 1.86, 'me', 1.79]\n"
     ]
    }
   ],
   "source": [
    "fam_ext = fam + [\"me\", 1.79] # Add elements in a list\n",
    "print(fam_ext)\n",
    "\n",
    "del(fam_ext[2:3])\n",
    "print(fam_ext)\n",
    "\n",
    " "
   ]
  },
  {
   "cell_type": "markdown",
   "metadata": {},
   "source": [
    "### Replace list elements\n",
    "Replacing list elements is pretty easy. Simply subset the list and assign new values to the subset. You can select single elements or you can change entire list slices at once.\n",
    "\n",
    "Use the IPython Shell to experiment with the commands below. Can you tell what's happening and why?\n",
    "\n",
    "`x = [\"a\", \"b\", \"c\", \"d\"]`   \n",
    "`x[1] = \"r\"`  \n",
    "\n",
    "`x[2:] = [\"s\", \"t\"]`\n",
    "\n",
    "\n",
    "For this and the following exercises, you'll continue working on the areas list that contains the names and areas of different rooms in a house.\n",
    "\n",
    "#### Instructions\n",
    "\n",
    "- Update the area of the bathroom area to be `10.50 `square meters instead of `9.50`.\n",
    "- Make the areas list more trendy! Change `\"living room\"` to `\"chill zone\"`.\n"
   ]
  },
  {
   "cell_type": "code",
   "execution_count": 13,
   "metadata": {},
   "outputs": [
    {
     "data": {
      "text/plain": [
       "['hallway',\n",
       " 11.25,\n",
       " 'kitchen',\n",
       " 18.0,\n",
       " 'chill zone',\n",
       " 20.0,\n",
       " 'bedroom',\n",
       " 10.75,\n",
       " 'bathroom',\n",
       " 10.5]"
      ]
     },
     "execution_count": 13,
     "metadata": {},
     "output_type": "execute_result"
    }
   ],
   "source": [
    "# Create the areas list\n",
    "areas = [\"hallway\", 11.25, \"kitchen\", 18.0, \"living room\", 20.0, \"bedroom\", 10.75, \"bathroom\", 9.50]\n",
    "\n",
    "# Correct the bathroom area\n",
    "areas[-1] = 10.50\n",
    "\n",
    "# Change \"living room\" to \"chill zone\"\n",
    "areas[4] = \"chill zone\"\n",
    "\n",
    "areas"
   ]
  },
  {
   "cell_type": "markdown",
   "metadata": {},
   "source": [
    "### Extend a list\n",
    "If you can change elements in a list, you sure want to be able to add elements to it, right? You can use the `+` operator:\n",
    "\n",
    "`x = [\"a\", \"b\", \"c\", \"d\"]`\n",
    "\n",
    "`y = x + [\"e\", \"f\"]`\n",
    "\n",
    "\n",
    "You just won the lottery, awesome! You decide to build a poolhouse and a garage. Can you add the information to the `areas` list?\n",
    "\n",
    "#### Instructions\n",
    "\n",
    "Use the `+` operator to paste the list `[\"poolhouse\", 24.5]` to the end of the areas list. Store the resulting list as `areas_1`.\n",
    "Further extend areas_1 by adding data on your garage. Add the string` \"garage\" `and float `15.45`. Name the resulting list `areas_2`."
   ]
  },
  {
   "cell_type": "code",
   "execution_count": 14,
   "metadata": {},
   "outputs": [
    {
     "data": {
      "text/plain": [
       "['hallway',\n",
       " 11.25,\n",
       " 'kitchen',\n",
       " 18.0,\n",
       " 'chill zone',\n",
       " 20.0,\n",
       " 'bedroom',\n",
       " 10.75,\n",
       " 'bathroom',\n",
       " 10.5,\n",
       " 'poolhouse',\n",
       " 24.5,\n",
       " 'garage',\n",
       " 15.45]"
      ]
     },
     "execution_count": 14,
     "metadata": {},
     "output_type": "execute_result"
    }
   ],
   "source": [
    "# Create the areas list and make some changes\n",
    "areas = [\"hallway\", 11.25, \"kitchen\", 18.0, \"chill zone\", 20.0,\n",
    "         \"bedroom\", 10.75, \"bathroom\", 10.50]\n",
    "areas\n",
    "\n",
    "# Add poolhouse data to areas, new list is areas_1\n",
    "areas_1 = areas + [\"poolhouse\", 24.5]\n",
    "areas_1\n",
    " \n",
    "\n",
    "# Add garage data to areas_1, new list is areas_2\n",
    "areas_2 = areas_1 + [\"garage\", 15.45]\n",
    "areas_2"
   ]
  },
  {
   "cell_type": "markdown",
   "metadata": {},
   "source": [
    "`NB:` There was a mistake! The amount you won with the lottery is not that big after all and it looks like the poolhouse isn't going to happen. You decide to remove the corresponding string and float from the areas list."
   ]
  },
  {
   "cell_type": "code",
   "execution_count": 18,
   "metadata": {},
   "outputs": [
    {
     "data": {
      "text/plain": [
       "['hallway',\n",
       " 11.25,\n",
       " 'kitchen',\n",
       " 18.0,\n",
       " 'chill zone',\n",
       " 20.0,\n",
       " 'bedroom',\n",
       " 10.75,\n",
       " 'garage',\n",
       " 15.45]"
      ]
     },
     "execution_count": 18,
     "metadata": {},
     "output_type": "execute_result"
    }
   ],
   "source": [
    "del(areas_2[-4:-2])\n",
    "areas_2"
   ]
  },
  {
   "cell_type": "markdown",
   "metadata": {},
   "source": [
    "### Inner workings of lists\n",
    "\n",
    "At the end of the video, Hugo explained how Python lists work behind the scenes. In this exercise you'll get some hands-on experience with this.\n",
    "\n",
    "The Python code in the script already creates a list with the name `areas` and a copy named `areas_copy`. Next, the first element in the `areas_copy` list is changed and the `areas` list is printed out. If you hit Run Code you'll see that, although you've changed `areas_copy`, the change also takes effect in the `areas` list. That's because `areas` and `areas_cop`y point to the same list.\n",
    "\n",
    "If you want to prevent changes in `areas_copy` from also taking effect in `areas`, you'll have to do a more explicit copy of the `areas` list. You can do this with `list()` or by using `[:]`.\n",
    "\n",
    "#### Instructions\n",
    "\n",
    "- Change the second command, that creates the variable `areas_copy`, such that `areas_copy` is an explicit copy of `areas`. \n",
    "- `After your edit, changes made to `areas_copy` shouldn't affect `areas`. Submit the answer to check this."
   ]
  },
  {
   "cell_type": "code",
   "execution_count": 1,
   "metadata": {},
   "outputs": [
    {
     "name": "stdout",
     "output_type": "stream",
     "text": [
      "[11.25, 18.0, 20.0, 10.75, 9.5]\n"
     ]
    }
   ],
   "source": [
    "# Create list areas\n",
    "areas = [11.25, 18.0, 20.0, 10.75, 9.50]\n",
    "\n",
    "# Create areas_copy\n",
    "areas_copy = list(areas)\n",
    "\n",
    "# Change areas_copy\n",
    "areas_copy[0] = 5.0\n",
    "\n",
    "# Print areas\n",
    "print(areas)"
   ]
  },
  {
   "cell_type": "markdown",
   "metadata": {},
   "source": []
  },
  {
   "cell_type": "code",
   "execution_count": null,
   "metadata": {},
   "outputs": [],
   "source": []
  },
  {
   "cell_type": "markdown",
   "metadata": {},
   "source": []
  },
  {
   "cell_type": "markdown",
   "metadata": {},
   "source": []
  },
  {
   "cell_type": "markdown",
   "metadata": {},
   "source": []
  },
  {
   "cell_type": "markdown",
   "metadata": {},
   "source": []
  },
  {
   "cell_type": "markdown",
   "metadata": {},
   "source": []
  },
  {
   "cell_type": "markdown",
   "metadata": {},
   "source": []
  },
  {
   "cell_type": "markdown",
   "metadata": {},
   "source": []
  },
  {
   "cell_type": "markdown",
   "metadata": {},
   "source": []
  }
 ],
 "metadata": {
  "kernelspec": {
   "display_name": "Python 3",
   "language": "python",
   "name": "python3"
  },
  "language_info": {
   "codemirror_mode": {
    "name": "ipython",
    "version": 3
   },
   "file_extension": ".py",
   "mimetype": "text/x-python",
   "name": "python",
   "nbconvert_exporter": "python",
   "pygments_lexer": "ipython3",
   "version": "3.10.12"
  }
 },
 "nbformat": 4,
 "nbformat_minor": 2
}
